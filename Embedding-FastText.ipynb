{
 "cells": [
  {
   "cell_type": "markdown",
   "metadata": {},
   "source": [
    "# Record Embedding"
   ]
  },
  {
   "cell_type": "code",
   "execution_count": 107,
   "metadata": {},
   "outputs": [],
   "source": [
    "import pandas as pd\n",
    "import numpy as np\n",
    "import os\n",
    "import calendar\n",
    "from sklearn.manifold import TSNE\n",
    "import matplotlib.pyplot as plt\n",
    "%matplotlib inline"
   ]
  },
  {
   "cell_type": "code",
   "execution_count": 108,
   "metadata": {},
   "outputs": [],
   "source": [
    "df = pd.read_csv('amazonCleaned.csv', dtype=object)"
   ]
  },
  {
   "cell_type": "code",
   "execution_count": 109,
   "metadata": {
    "scrolled": true
   },
   "outputs": [
    {
     "data": {
      "text/html": [
       "<div>\n",
       "<style scoped>\n",
       "    .dataframe tbody tr th:only-of-type {\n",
       "        vertical-align: middle;\n",
       "    }\n",
       "\n",
       "    .dataframe tbody tr th {\n",
       "        vertical-align: top;\n",
       "    }\n",
       "\n",
       "    .dataframe thead th {\n",
       "        text-align: right;\n",
       "    }\n",
       "</style>\n",
       "<table border=\"1\" class=\"dataframe\">\n",
       "  <thead>\n",
       "    <tr style=\"text-align: right;\">\n",
       "      <th></th>\n",
       "      <th>Name</th>\n",
       "      <th>Author</th>\n",
       "      <th>Format</th>\n",
       "      <th>Publisher</th>\n",
       "      <th>Publishing Date</th>\n",
       "    </tr>\n",
       "  </thead>\n",
       "  <tbody>\n",
       "    <tr>\n",
       "      <th>0</th>\n",
       "      <td>Age of Myth: Book One of The Legends of the Fi...</td>\n",
       "      <td>Michael J. Sullivan</td>\n",
       "      <td>Paperback</td>\n",
       "      <td>Del Rey</td>\n",
       "      <td>January 31, 2017</td>\n",
       "    </tr>\n",
       "    <tr>\n",
       "      <th>1</th>\n",
       "      <td>Rise of the Dragons (Kings and Sorcerers--Book 1)</td>\n",
       "      <td>Morgan Rice</td>\n",
       "      <td>Hardcover</td>\n",
       "      <td>Morgan Rice</td>\n",
       "      <td>August 4, 2017</td>\n",
       "    </tr>\n",
       "    <tr>\n",
       "      <th>2</th>\n",
       "      <td>The Book of Deacon (Volume 1)</td>\n",
       "      <td>Joseph Lallo</td>\n",
       "      <td>Kindle</td>\n",
       "      <td>CreateSpace Independent Publishing Platform</td>\n",
       "      <td>March 18, 2012</td>\n",
       "    </tr>\n",
       "    <tr>\n",
       "      <th>3</th>\n",
       "      <td>A Quest of Heroes: Book #1 in the Sorcerer's Ring</td>\n",
       "      <td>Morgan Rice</td>\n",
       "      <td>Hardcover</td>\n",
       "      <td>Morgan Rice</td>\n",
       "      <td>December 3, 2012</td>\n",
       "    </tr>\n",
       "    <tr>\n",
       "      <th>4</th>\n",
       "      <td>Fantasia: An Algerian Cavalcade</td>\n",
       "      <td>Dorothy S. Blair</td>\n",
       "      <td>Kindle</td>\n",
       "      <td>Heinemann; 1 edition</td>\n",
       "      <td>March 15, 1993</td>\n",
       "    </tr>\n",
       "  </tbody>\n",
       "</table>\n",
       "</div>"
      ],
      "text/plain": [
       "                                                Name               Author  \\\n",
       "0  Age of Myth: Book One of The Legends of the Fi...  Michael J. Sullivan   \n",
       "1  Rise of the Dragons (Kings and Sorcerers--Book 1)          Morgan Rice   \n",
       "2                      The Book of Deacon (Volume 1)         Joseph Lallo   \n",
       "3  A Quest of Heroes: Book #1 in the Sorcerer's Ring          Morgan Rice   \n",
       "4                    Fantasia: An Algerian Cavalcade     Dorothy S. Blair   \n",
       "\n",
       "      Format                                    Publisher   Publishing Date  \n",
       "0  Paperback                                      Del Rey  January 31, 2017  \n",
       "1  Hardcover                                  Morgan Rice    August 4, 2017  \n",
       "2     Kindle  CreateSpace Independent Publishing Platform    March 18, 2012  \n",
       "3  Hardcover                                  Morgan Rice  December 3, 2012  \n",
       "4     Kindle                         Heinemann; 1 edition    March 15, 1993  "
      ]
     },
     "execution_count": 109,
     "metadata": {},
     "output_type": "execute_result"
    }
   ],
   "source": [
    "df.head()"
   ]
  },
  {
   "cell_type": "markdown",
   "metadata": {},
   "source": [
    "## Embedding using fastText\n",
    "Details here: https://fasttext.cc/"
   ]
  },
  {
   "cell_type": "code",
   "execution_count": 110,
   "metadata": {},
   "outputs": [],
   "source": [
    "import warnings\n",
    "warnings.filterwarnings('ignore')\n",
    "\n",
    "import gensim\n",
    "from gensim.models import FastText"
   ]
  },
  {
   "cell_type": "markdown",
   "metadata": {},
   "source": [
    "Convert each tuple into a row"
   ]
  },
  {
   "cell_type": "code",
   "execution_count": 111,
   "metadata": {},
   "outputs": [],
   "source": [
    "names = df['Name'].tolist()\n",
    "authors = df['Author'].tolist()\n",
    "publishers = df['Publisher'].tolist()\n",
    "dates = df['Publishing Date'].tolist()\n",
    "formats = df['Format'].tolist()\n",
    "\n",
    "combined = list(zip(names, authors, publishers, dates, formats))"
   ]
  },
  {
   "cell_type": "code",
   "execution_count": 112,
   "metadata": {},
   "outputs": [
    {
     "data": {
      "text/plain": [
       "7604"
      ]
     },
     "execution_count": 112,
     "metadata": {},
     "output_type": "execute_result"
    }
   ],
   "source": [
    "len(combined)"
   ]
  },
  {
   "cell_type": "code",
   "execution_count": 113,
   "metadata": {
    "scrolled": true
   },
   "outputs": [
    {
     "data": {
      "text/plain": [
       "('Age of Myth: Book One of The Legends of the First Empire',\n",
       " 'Michael J. Sullivan',\n",
       " 'Del Rey',\n",
       " 'January 31, 2017',\n",
       " 'Paperback')"
      ]
     },
     "execution_count": 113,
     "metadata": {},
     "output_type": "execute_result"
    }
   ],
   "source": [
    "combined[0]"
   ]
  },
  {
   "cell_type": "code",
   "execution_count": 114,
   "metadata": {},
   "outputs": [],
   "source": [
    "#train fasttext - cbow\n",
    "model_fast = FastText(combined, min_count=1, workers=8, iter=1000)"
   ]
  },
  {
   "cell_type": "code",
   "execution_count": 115,
   "metadata": {},
   "outputs": [
    {
     "name": "stdout",
     "output_type": "stream",
     "text": [
      "FastText(vocab=18405, size=100, alpha=0.025)\n"
     ]
    }
   ],
   "source": [
    "print(model_fast)"
   ]
  },
  {
   "cell_type": "code",
   "execution_count": 116,
   "metadata": {
    "scrolled": true
   },
   "outputs": [
    {
     "name": "stdout",
     "output_type": "stream",
     "text": [
      "[ -5.412458     2.991579     3.6252203   -3.4196808   -3.2066329\n",
      "   0.59749943  -7.8482447   -6.114672    -2.0932353    0.48999414\n",
      "  -1.4339309   -7.7959886   -4.411901     1.8542625    3.0994992\n",
      "   5.2746763    8.54603     -4.3231454    2.2175345    5.556088\n",
      "   0.89939606   0.8524798    2.3908517    7.5518627   -7.0022964\n",
      "  -4.3341837    8.020583     1.6515157   -4.1988487    7.8810825\n",
      "  -6.351301    -4.2884765   -1.994357    -1.2601101    0.39927036\n",
      "  -1.4213387    1.0747572   -5.604467    -1.6319239    5.250094\n",
      "  -4.0830708    4.6709714   -1.3383621   -6.519044     2.0623097\n",
      "   3.1602454    0.6102621   -5.0808983    0.19365023   8.531117\n",
      "  -7.2033005   -6.0466194   -1.9076993    0.32737267   0.8864784\n",
      " -10.47367     -2.0826094   -7.7257543    1.3889396   -0.89720356\n",
      "  -1.4051613    6.665574     3.2960322   -0.7019844    2.4519923\n",
      "  -0.8111372    0.4013826   -1.9081339   -0.2904086    6.0187597\n",
      "  -0.48841384  -4.3694572    5.6835113    4.7482963   -3.5096126\n",
      "  -1.5174493   -7.9249973    2.523424     2.4098477   -3.939488\n",
      "  -1.1435864   -0.4176876   -0.89232314  -3.504389    -3.9689891\n",
      "   3.8095417   -3.3354688   -1.4052936    2.498484    -1.2623417\n",
      "  11.174205    -3.5856519    2.8841643    1.9518335    0.61610216\n",
      "   3.20768      1.1883191   -5.266792     2.5211432    0.61579674]\n"
     ]
    }
   ],
   "source": [
    "print(model_fast['Tor Fantasy'])"
   ]
  },
  {
   "cell_type": "code",
   "execution_count": 117,
   "metadata": {},
   "outputs": [
    {
     "data": {
      "text/plain": [
       "[('Harry Potter And The Order Of The Phoenix', 0.9595365524291992),\n",
       " ('Harry Potter And The Chamber Of Secrets', 0.9494017958641052),\n",
       " ('Harry Potter And The Philosopher´s Stone (Film): Fantasy, Adventure, Harry Potter And The Philosopher´s Stone, J. K. Rowling, Chris Columbus (Filmmaker), ... Series), Harry Potter (Character), Hogwarts',\n",
       "  0.8871390223503113),\n",
       " ('Robotech: The Masters Saga: The Southern Cross (Vol 7-9)',\n",
       "  0.8160675168037415),\n",
       " ('The Deathly Hallows Lectures: The Hogwarts Professor Explains the Final Harry Potter Adventure',\n",
       "  0.8022780418395996),\n",
       " ('The Cricket in Times Square (Chester Cricket and His Friends)',\n",
       "  0.7925834655761719),\n",
       " ('The Dark Tower III: The Waste Lands', 0.786429762840271),\n",
       " ('Thea Stilton', 0.7830697298049927),\n",
       " ('Harry Potter and the Deathly Hallows (Book 7)', 0.7822356224060059),\n",
       " ('The Ruling Sea (Chathrand Voyage)', 0.7815117835998535)]"
      ]
     },
     "execution_count": 117,
     "metadata": {},
     "output_type": "execute_result"
    }
   ],
   "source": [
    "model_fast.most_similar(\"Harry Potter And The Goblet Of Fire\")"
   ]
  },
  {
   "cell_type": "code",
   "execution_count": 118,
   "metadata": {},
   "outputs": [
    {
     "data": {
      "text/plain": [
       "[('Bloomsbury USA', 0.9679713249206543),\n",
       " ('Bloomsbury Sigma', 0.9653311967849731),\n",
       " ('Bloomsbury Academic', 0.9589107632637024),\n",
       " ('Bloomsbury USA Childrens', 0.8553447723388672),\n",
       " ('Bloomsbury Childrens', 0.8333024978637695),\n",
       " ('Bloomsbury USA Childrens; Reprint edition', 0.7285604476928711),\n",
       " ('Bloomsbury USA Childrens; Reissue edition', 0.7193355560302734),\n",
       " (\"Bloomsbury Children's Books\", 0.6848500370979309),\n",
       " ('Bloomsbury USA Childrens; 1st Printing edition', 0.6526287794113159),\n",
       " ('Amy Bloom', 0.5729068517684937)]"
      ]
     },
     "execution_count": 118,
     "metadata": {},
     "output_type": "execute_result"
    }
   ],
   "source": [
    "model_fast.most_similar(\"Bloomsbury\")"
   ]
  },
  {
   "cell_type": "code",
   "execution_count": 119,
   "metadata": {
    "scrolled": true
   },
   "outputs": [
    {
     "data": {
      "text/plain": [
       "[('March 2, 2015', 0.9903461933135986),\n",
       " ('March 5, 2015', 0.9897740483283997),\n",
       " ('March 13, 2015', 0.9897267818450928),\n",
       " ('March 16, 2015', 0.9843902587890625),\n",
       " ('March 02, 2015', 0.9828610420227051),\n",
       " ('March 24, 2015', 0.982369065284729),\n",
       " ('March 12, 2015', 0.9816089868545532),\n",
       " ('March 19, 2015', 0.9802409410476685),\n",
       " ('March 05, 2015', 0.9796395897865295),\n",
       " ('March 10, 2015', 0.9778379201889038)]"
      ]
     },
     "execution_count": 119,
     "metadata": {},
     "output_type": "execute_result"
    }
   ],
   "source": [
    "model_fast.most_similar('March 3, 2015')"
   ]
  },
  {
   "cell_type": "code",
   "execution_count": 120,
   "metadata": {},
   "outputs": [
    {
     "data": {
      "text/plain": [
       "[('The Crown of Kings', 0.949828028678894),\n",
       " ('The Rings of Kether', 0.9315294027328491),\n",
       " ('The Deadly Curse of Toco-Rey', 0.9219759702682495),\n",
       " ('The End of Infinity', 0.9177632331848145),\n",
       " ('The Kingdom of America', 0.9174216985702515),\n",
       " ('The Horn of Time', 0.9123154282569885),\n",
       " ('The Heritage of Hastur', 0.9110957980155945),\n",
       " ('The Haunting of Maddy Clare', 0.908108651638031),\n",
       " ('The Tamuli: Domes of Fire - The Shining Ones - The Hidden City',\n",
       "  0.9065176844596863),\n",
       " ('The Wizard of Oz', 0.9021756649017334)]"
      ]
     },
     "execution_count": 120,
     "metadata": {},
     "output_type": "execute_result"
    }
   ],
   "source": [
    "model_fast.most_similar('The Way of Kings')"
   ]
  },
  {
   "cell_type": "code",
   "execution_count": 121,
   "metadata": {},
   "outputs": [
    {
     "data": {
      "text/plain": [
       "[('Brandon Mull', 0.8694670796394348),\n",
       " ('Carl Anderson', 0.8594995737075806),\n",
       " ('Elias Anderson', 0.8510757684707642),\n",
       " ('Leroy Anderson', 0.8484483957290649),\n",
       " ('D A Anderson', 0.8482165336608887),\n",
       " ('Poul Anderson', 0.8454199433326721),\n",
       " ('Branded', 0.8395313620567322),\n",
       " ('Brandon Rospond', 0.8353612422943115),\n",
       " ('Derek Anderson', 0.8353233933448792),\n",
       " ('Mal Sanders', 0.8350759744644165)]"
      ]
     },
     "execution_count": 121,
     "metadata": {},
     "output_type": "execute_result"
    }
   ],
   "source": [
    "model_fast.most_similar(\"Brandon Sanderson\")"
   ]
  },
  {
   "cell_type": "code",
   "execution_count": 122,
   "metadata": {},
   "outputs": [],
   "source": [
    "model_fast.save(\"amazonModelFastText.w2v\")"
   ]
  },
  {
   "cell_type": "code",
   "execution_count": null,
   "metadata": {
    "collapsed": true
   },
   "outputs": [],
   "source": []
  }
 ],
 "metadata": {
  "kernelspec": {
   "display_name": "Python 3",
   "language": "python",
   "name": "python3"
  },
  "language_info": {
   "codemirror_mode": {
    "name": "ipython",
    "version": 3
   },
   "file_extension": ".py",
   "mimetype": "text/x-python",
   "name": "python",
   "nbconvert_exporter": "python",
   "pygments_lexer": "ipython3",
   "version": "3.5.0"
  },
  "toc": {
   "nav_menu": {},
   "number_sections": true,
   "sideBar": true,
   "skip_h1_title": true,
   "title_cell": "Table of Contents",
   "title_sidebar": "Contents",
   "toc_cell": false,
   "toc_position": {},
   "toc_section_display": true,
   "toc_window_display": false
  }
 },
 "nbformat": 4,
 "nbformat_minor": 2
}
