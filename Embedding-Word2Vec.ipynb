{
 "cells": [
  {
   "cell_type": "markdown",
   "metadata": {},
   "source": [
    "# Record Embedding"
   ]
  },
  {
   "cell_type": "code",
   "execution_count": 3,
   "metadata": {},
   "outputs": [],
   "source": [
    "import pandas as pd\n",
    "import numpy as np\n",
    "import os\n",
    "import calendar\n",
    "from sklearn.manifold import TSNE\n",
    "import matplotlib.pyplot as plt\n",
    "%matplotlib inline"
   ]
  },
  {
   "cell_type": "markdown",
   "metadata": {},
   "source": [
    "## Read Data\n",
    "We will be using a dataset containing book data from Amazon. I scraped this dataset off Amazon. It contains about 3400 tuples of various datatypes."
   ]
  },
  {
   "cell_type": "code",
   "execution_count": 4,
   "metadata": {},
   "outputs": [],
   "source": [
    "df = pd.read_csv(\"amazonCleaned.csv\",dtype=object, encoding='utf8')"
   ]
  },
  {
   "cell_type": "code",
   "execution_count": 5,
   "metadata": {},
   "outputs": [
    {
     "data": {
      "text/html": [
       "<div>\n",
       "<style scoped>\n",
       "    .dataframe tbody tr th:only-of-type {\n",
       "        vertical-align: middle;\n",
       "    }\n",
       "\n",
       "    .dataframe tbody tr th {\n",
       "        vertical-align: top;\n",
       "    }\n",
       "\n",
       "    .dataframe thead th {\n",
       "        text-align: right;\n",
       "    }\n",
       "</style>\n",
       "<table border=\"1\" class=\"dataframe\">\n",
       "  <thead>\n",
       "    <tr style=\"text-align: right;\">\n",
       "      <th></th>\n",
       "      <th>Name</th>\n",
       "      <th>Author</th>\n",
       "      <th>Format</th>\n",
       "      <th>Publisher</th>\n",
       "      <th>Publishing Date</th>\n",
       "    </tr>\n",
       "  </thead>\n",
       "  <tbody>\n",
       "    <tr>\n",
       "      <th>0</th>\n",
       "      <td>Age of Myth: Book One of The Legends of the Fi...</td>\n",
       "      <td>Michael J. Sullivan</td>\n",
       "      <td>Paperback</td>\n",
       "      <td>Del Rey</td>\n",
       "      <td>January 31, 2017</td>\n",
       "    </tr>\n",
       "    <tr>\n",
       "      <th>1</th>\n",
       "      <td>Rise of the Dragons (Kings and Sorcerers--Book 1)</td>\n",
       "      <td>Morgan Rice</td>\n",
       "      <td>Hardcover</td>\n",
       "      <td>Morgan Rice</td>\n",
       "      <td>August 4, 2017</td>\n",
       "    </tr>\n",
       "    <tr>\n",
       "      <th>2</th>\n",
       "      <td>The Book of Deacon (Volume 1)</td>\n",
       "      <td>Joseph Lallo</td>\n",
       "      <td>Kindle</td>\n",
       "      <td>CreateSpace Independent Publishing Platform</td>\n",
       "      <td>March 18, 2012</td>\n",
       "    </tr>\n",
       "    <tr>\n",
       "      <th>3</th>\n",
       "      <td>A Quest of Heroes: Book #1 in the Sorcerer's Ring</td>\n",
       "      <td>Morgan Rice</td>\n",
       "      <td>Hardcover</td>\n",
       "      <td>Morgan Rice</td>\n",
       "      <td>December 3, 2012</td>\n",
       "    </tr>\n",
       "    <tr>\n",
       "      <th>4</th>\n",
       "      <td>Fantasia: An Algerian Cavalcade</td>\n",
       "      <td>Dorothy S. Blair</td>\n",
       "      <td>Kindle</td>\n",
       "      <td>Heinemann; 1 edition</td>\n",
       "      <td>March 15, 1993</td>\n",
       "    </tr>\n",
       "  </tbody>\n",
       "</table>\n",
       "</div>"
      ],
      "text/plain": [
       "                                                Name               Author  \\\n",
       "0  Age of Myth: Book One of The Legends of the Fi...  Michael J. Sullivan   \n",
       "1  Rise of the Dragons (Kings and Sorcerers--Book 1)          Morgan Rice   \n",
       "2                      The Book of Deacon (Volume 1)         Joseph Lallo   \n",
       "3  A Quest of Heroes: Book #1 in the Sorcerer's Ring          Morgan Rice   \n",
       "4                    Fantasia: An Algerian Cavalcade     Dorothy S. Blair   \n",
       "\n",
       "      Format                                    Publisher   Publishing Date  \n",
       "0  Paperback                                      Del Rey  January 31, 2017  \n",
       "1  Hardcover                                  Morgan Rice    August 4, 2017  \n",
       "2     Kindle  CreateSpace Independent Publishing Platform    March 18, 2012  \n",
       "3  Hardcover                                  Morgan Rice  December 3, 2012  \n",
       "4     Kindle                         Heinemann; 1 edition    March 15, 1993  "
      ]
     },
     "execution_count": 5,
     "metadata": {},
     "output_type": "execute_result"
    }
   ],
   "source": [
    "df.head()"
   ]
  },
  {
   "cell_type": "markdown",
   "metadata": {},
   "source": [
    "## Exploration using the Gensim library\n",
    "Details here: https://radimrehurek.com/gensim/"
   ]
  },
  {
   "cell_type": "code",
   "execution_count": 6,
   "metadata": {},
   "outputs": [],
   "source": [
    "import warnings\n",
    "warnings.filterwarnings('ignore')\n",
    "\n",
    "from gensim.models import Word2Vec\n",
    "import gensim"
   ]
  },
  {
   "cell_type": "markdown",
   "metadata": {},
   "source": [
    "Convert each tuple into a row"
   ]
  },
  {
   "cell_type": "code",
   "execution_count": 7,
   "metadata": {},
   "outputs": [],
   "source": [
    "names = df['Name'].tolist()\n",
    "authors = df['Author'].tolist()\n",
    "publishers = df['Publisher'].tolist()\n",
    "dates = df['Publishing Date'].tolist()\n",
    "formats = df['Format'].tolist()\n",
    "\n",
    "combined = list(zip(names, authors, publishers, dates, formats))"
   ]
  },
  {
   "cell_type": "code",
   "execution_count": 8,
   "metadata": {},
   "outputs": [
    {
     "data": {
      "text/plain": [
       "7604"
      ]
     },
     "execution_count": 8,
     "metadata": {},
     "output_type": "execute_result"
    }
   ],
   "source": [
    "len(combined)"
   ]
  },
  {
   "cell_type": "code",
   "execution_count": 9,
   "metadata": {
    "scrolled": true
   },
   "outputs": [
    {
     "data": {
      "text/plain": [
       "('Age of Myth: Book One of The Legends of the First Empire',\n",
       " 'Michael J. Sullivan',\n",
       " 'Del Rey',\n",
       " 'January 31, 2017',\n",
       " 'Paperback')"
      ]
     },
     "execution_count": 9,
     "metadata": {},
     "output_type": "execute_result"
    }
   ],
   "source": [
    "combined[0]"
   ]
  },
  {
   "cell_type": "code",
   "execution_count": 10,
   "metadata": {},
   "outputs": [],
   "source": [
    "# train model\n",
    "bigram_transformer = gensim.models.Phrases(combined, delimiter=b' ')\n",
    "model = Word2Vec(bigram_transformer[combined], sg=1, min_count=1, workers=8, iter=1000)"
   ]
  },
  {
   "cell_type": "code",
   "execution_count": 18,
   "metadata": {},
   "outputs": [
    {
     "name": "stdout",
     "output_type": "stream",
     "text": [
      "Word2Vec(vocab=18473, size=100, alpha=0.025)\n"
     ]
    }
   ],
   "source": [
    "print(model)"
   ]
  },
  {
   "cell_type": "markdown",
   "metadata": {},
   "source": [
    "100 dimensional vectors."
   ]
  },
  {
   "cell_type": "code",
   "execution_count": 19,
   "metadata": {
    "scrolled": true
   },
   "outputs": [
    {
     "name": "stdout",
     "output_type": "stream",
     "text": [
      "[ 0.67516285 -0.14670508 -0.4897074   0.77409965  0.38929275 -0.4906028\n",
      "  0.43397602 -0.06233988  0.77981013  0.5924976  -0.8089933  -0.61580753\n",
      " -1.4347706  -0.46481085 -0.25025898  0.5557685  -1.2789061   0.18085238\n",
      " -1.1410983   1.0432794   0.01697883 -0.7970075  -1.7878596   1.4433059\n",
      "  0.2528082   0.71720153 -0.12724243 -1.5391577   0.9672115   0.7647959\n",
      " -1.1338452   1.0273381   0.5251662  -1.356639   -0.47810143  1.3329961\n",
      " -0.3818578  -0.2344442  -0.13924609  0.53028697 -0.6666167  -0.10410766\n",
      " -0.78360194 -0.5907514   0.6463207  -0.8608699   1.0243403   0.97872686\n",
      " -0.10898726 -0.45420325  1.060158    0.16182332  0.8398038  -0.7350409\n",
      " -0.579689    0.44014037 -0.25801885  0.11126943 -0.53362936  1.02085\n",
      "  0.5980683   0.5375461   0.32991734  0.38085702 -1.3669183  -0.04034464\n",
      " -1.4376628  -1.8168751  -0.25210255 -0.1828292  -0.0244973  -0.9850758\n",
      "  1.2847495   1.336925    0.8740314  -0.28057635  0.47792712 -1.2412843\n",
      "  0.9257329   0.76902884  0.00628767 -0.32869408 -0.7335433  -1.2326864\n",
      " -0.8982851   0.91736186 -0.88225883 -1.5686951   0.5868593   0.7030518\n",
      " -0.98920643  0.00748552  0.15990143  0.5708973   1.7683663  -0.29841575\n",
      " -0.42604092  2.076292    0.8240376   0.4428509 ]\n"
     ]
    }
   ],
   "source": [
    "print(model['Tor Fantasy'])"
   ]
  },
  {
   "cell_type": "code",
   "execution_count": 20,
   "metadata": {},
   "outputs": [
    {
     "data": {
      "text/plain": [
       "[('Katherine Addison', 0.7462049722671509),\n",
       " ('The Goblin Emperor', 0.7333511114120483),\n",
       " ('Seventh Son (Tales of Alvin Maker, Book 1)', 0.7288691997528076),\n",
       " ('September 15, 1996', 0.7274661064147949),\n",
       " ('Alvin Journeyman (Tales of Alvin Maker, Book 4)', 0.7251750826835632),\n",
       " ('June 15, 1993', 0.7179016470909119),\n",
       " ('October 15, 1992', 0.7120752930641174),\n",
       " ('The Dinosaur Princess (The Dinosaur Lords)', 0.7049572467803955),\n",
       " ('House of Chains (The Malazan Book of the Fallen, Book 4)',\n",
       "  0.703456699848175),\n",
       " ('The Dragon Reborn (The Wheel of Time, Book 3)', 0.7030671238899231)]"
      ]
     },
     "execution_count": 20,
     "metadata": {},
     "output_type": "execute_result"
    }
   ],
   "source": [
    "model.most_similar(\"Tor Fantasy\")"
   ]
  },
  {
   "cell_type": "code",
   "execution_count": 21,
   "metadata": {
    "scrolled": true
   },
   "outputs": [
    {
     "data": {
      "text/plain": [
       "[('Borrowed Crime (A Bookmobile Cat Mystery)', 0.8873239755630493),\n",
       " ('The Goblin Emperor', 0.862354040145874),\n",
       " ('Skin Game (Dresden Files)', 0.8621822595596313),\n",
       " ('Katherine Addison', 0.8594257831573486),\n",
       " (\"The Assassin's Blade: The Throne of Glass Novellas\", 0.8532944917678833),\n",
       " ('Laurie Cass', 0.8500100374221802),\n",
       " ('Words of Radiance: Book Two of the Stormlight Archive', 0.8349869847297668),\n",
       " ('Bloomsbury USA Childrens; Reprint edition', 0.7920763492584229),\n",
       " ('Pouncing on Murder (A Bookmobile Cat Mystery)', 0.7877581119537354),\n",
       " ('Heir of Fire (Throne of Glass)', 0.7686179876327515)]"
      ]
     },
     "execution_count": 21,
     "metadata": {},
     "output_type": "execute_result"
    }
   ],
   "source": [
    "model.most_similar('March 3, 2015')"
   ]
  },
  {
   "cell_type": "code",
   "execution_count": 22,
   "metadata": {},
   "outputs": [
    {
     "data": {
      "text/plain": [
       "[('The Well of Ascension (Mistborn, Book 2)', 0.9306834936141968),\n",
       " ('The Hero of Ages: Book Three of Mistborn', 0.9146141409873962),\n",
       " ('May 24, 2011', 0.9066956043243408),\n",
       " ('Return of the Crimson Guard: A Novel of the Malazan Empire (Novels of the Malazan Empire)',\n",
       "  0.8936777114868164),\n",
       " ('The Alloy of Law: A Mistborn Novel', 0.8878645896911621),\n",
       " ('Shadows of Self: A Mistborn Novel', 0.8840540647506714),\n",
       " ('Anno Dracula', 0.862244725227356),\n",
       " ('Towers of Midnight (Wheel of Time)', 0.858672022819519),\n",
       " ('Kim Newman', 0.8546329736709595),\n",
       " ('Alden Bell', 0.8533525466918945)]"
      ]
     },
     "execution_count": 22,
     "metadata": {},
     "output_type": "execute_result"
    }
   ],
   "source": [
    "model.most_similar('The Way of Kings')"
   ]
  },
  {
   "cell_type": "code",
   "execution_count": 23,
   "metadata": {},
   "outputs": [],
   "source": [
    "model.save(\"amazonModelWord2Vec.w2v\")"
   ]
  },
  {
   "cell_type": "code",
   "execution_count": null,
   "metadata": {},
   "outputs": [],
   "source": []
  }
 ],
 "metadata": {
  "kernelspec": {
   "display_name": "Python 3",
   "language": "python",
   "name": "python3"
  },
  "language_info": {
   "codemirror_mode": {
    "name": "ipython",
    "version": 3
   },
   "file_extension": ".py",
   "mimetype": "text/x-python",
   "name": "python",
   "nbconvert_exporter": "python",
   "pygments_lexer": "ipython3",
   "version": "3.5.0"
  },
  "toc": {
   "nav_menu": {},
   "number_sections": true,
   "sideBar": true,
   "skip_h1_title": true,
   "title_cell": "Table of Contents",
   "title_sidebar": "Contents",
   "toc_cell": false,
   "toc_position": {},
   "toc_section_display": true,
   "toc_window_display": false
  }
 },
 "nbformat": 4,
 "nbformat_minor": 2
}
