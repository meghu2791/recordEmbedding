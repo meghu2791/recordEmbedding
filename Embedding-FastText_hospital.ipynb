{
 "cells": [
  {
   "cell_type": "markdown",
   "metadata": {},
   "source": [
    "# Record Embedding"
   ]
  },
  {
   "cell_type": "code",
   "execution_count": 33,
   "metadata": {
    "collapsed": true
   },
   "outputs": [],
   "source": [
    "import pandas as pd\n",
    "import numpy as np\n",
    "import os\n",
    "import calendar\n",
    "from sklearn.manifold import TSNE\n",
    "import matplotlib.pyplot as plt\n",
    "%matplotlib inline"
   ]
  },
  {
   "cell_type": "code",
   "execution_count": 34,
   "metadata": {
    "collapsed": true
   },
   "outputs": [],
   "source": [
    "df = pd.read_csv('amazonCleaned.csv', dtype=object)"
   ]
  },
  {
   "cell_type": "code",
   "execution_count": 35,
   "metadata": {
    "scrolled": true
   },
   "outputs": [
    {
     "data": {
      "text/html": [
       "<div>\n",
       "<style>\n",
       "    .dataframe thead tr:only-child th {\n",
       "        text-align: right;\n",
       "    }\n",
       "\n",
       "    .dataframe thead th {\n",
       "        text-align: left;\n",
       "    }\n",
       "\n",
       "    .dataframe tbody tr th {\n",
       "        vertical-align: top;\n",
       "    }\n",
       "</style>\n",
       "<table border=\"1\" class=\"dataframe\">\n",
       "  <thead>\n",
       "    <tr style=\"text-align: right;\">\n",
       "      <th></th>\n",
       "      <th>Name</th>\n",
       "      <th>Author</th>\n",
       "      <th>Format</th>\n",
       "      <th>Publisher</th>\n",
       "      <th>Publishing Date</th>\n",
       "    </tr>\n",
       "  </thead>\n",
       "  <tbody>\n",
       "    <tr>\n",
       "      <th>0</th>\n",
       "      <td>Age of Myth: Book One of The Legends of the Fi...</td>\n",
       "      <td>Michael J. Sullivan</td>\n",
       "      <td>Paperback</td>\n",
       "      <td>Del Rey</td>\n",
       "      <td>January 31, 2017</td>\n",
       "    </tr>\n",
       "    <tr>\n",
       "      <th>1</th>\n",
       "      <td>Rise of the Dragons (Kings and Sorcerers--Book 1)</td>\n",
       "      <td>Morgan Rice</td>\n",
       "      <td>Hardcover</td>\n",
       "      <td>Morgan Rice</td>\n",
       "      <td>August 4, 2017</td>\n",
       "    </tr>\n",
       "    <tr>\n",
       "      <th>2</th>\n",
       "      <td>The Book of Deacon (Volume 1)</td>\n",
       "      <td>Joseph Lallo</td>\n",
       "      <td>Kindle</td>\n",
       "      <td>CreateSpace Independent Publishing Platform</td>\n",
       "      <td>March 18, 2012</td>\n",
       "    </tr>\n",
       "    <tr>\n",
       "      <th>3</th>\n",
       "      <td>A Quest of Heroes: Book #1 in the Sorcerer's Ring</td>\n",
       "      <td>Morgan Rice</td>\n",
       "      <td>Hardcover</td>\n",
       "      <td>Morgan Rice</td>\n",
       "      <td>December 3, 2012</td>\n",
       "    </tr>\n",
       "    <tr>\n",
       "      <th>4</th>\n",
       "      <td>Fantasia: An Algerian Cavalcade</td>\n",
       "      <td>Dorothy S. Blair</td>\n",
       "      <td>Kindle</td>\n",
       "      <td>Heinemann; 1 edition</td>\n",
       "      <td>March 15, 1993</td>\n",
       "    </tr>\n",
       "  </tbody>\n",
       "</table>\n",
       "</div>"
      ],
      "text/plain": [
       "                                                Name               Author  \\\n",
       "0  Age of Myth: Book One of The Legends of the Fi...  Michael J. Sullivan   \n",
       "1  Rise of the Dragons (Kings and Sorcerers--Book 1)          Morgan Rice   \n",
       "2                      The Book of Deacon (Volume 1)         Joseph Lallo   \n",
       "3  A Quest of Heroes: Book #1 in the Sorcerer's Ring          Morgan Rice   \n",
       "4                    Fantasia: An Algerian Cavalcade     Dorothy S. Blair   \n",
       "\n",
       "      Format                                    Publisher   Publishing Date  \n",
       "0  Paperback                                      Del Rey  January 31, 2017  \n",
       "1  Hardcover                                  Morgan Rice    August 4, 2017  \n",
       "2     Kindle  CreateSpace Independent Publishing Platform    March 18, 2012  \n",
       "3  Hardcover                                  Morgan Rice  December 3, 2012  \n",
       "4     Kindle                         Heinemann; 1 edition    March 15, 1993  "
      ]
     },
     "execution_count": 35,
     "metadata": {},
     "output_type": "execute_result"
    }
   ],
   "source": [
    "df.head()"
   ]
  },
  {
   "cell_type": "markdown",
   "metadata": {},
   "source": [
    "## Embedding using fastText\n",
    "Details here: https://fasttext.cc/"
   ]
  },
  {
   "cell_type": "code",
   "execution_count": 36,
   "metadata": {
    "collapsed": true
   },
   "outputs": [],
   "source": [
    "import warnings\n",
    "warnings.filterwarnings('ignore')\n",
    "\n",
    "import gensim\n",
    "from gensim.models import FastText"
   ]
  },
  {
   "cell_type": "markdown",
   "metadata": {},
   "source": [
    "Convert each tuple into a row"
   ]
  },
  {
   "cell_type": "code",
   "execution_count": 37,
   "metadata": {
    "collapsed": true
   },
   "outputs": [],
   "source": [
    "names = df['Name'].tolist()\n",
    "authors = df['Author'].tolist()\n",
    "publishers = df['Publisher'].tolist()\n",
    "dates = df['Publishing Date'].tolist()\n",
    "formats = df['Format'].tolist()\n",
    "\n",
    "combined = list(zip(names, authors, publishers, dates, formats))"
   ]
  },
  {
   "cell_type": "code",
   "execution_count": 38,
   "metadata": {},
   "outputs": [
    {
     "data": {
      "text/plain": [
       "('Age of Myth: Book One of The Legends of the First Empire',\n",
       " 'Michael J. Sullivan',\n",
       " 'Del Rey',\n",
       " 'January 31, 2017',\n",
       " 'Paperback')"
      ]
     },
     "execution_count": 38,
     "metadata": {},
     "output_type": "execute_result"
    }
   ],
   "source": [
    "len(combined)\n",
    "combined[0]"
   ]
  },
  {
   "cell_type": "code",
   "execution_count": null,
   "metadata": {
    "collapsed": true
   },
   "outputs": [],
   "source": [
    "#train fasttext - cbow\n",
    "model_fast = FastText(combined, min_count=1, workers=8, iter=1000)"
   ]
  },
  {
   "cell_type": "code",
   "execution_count": null,
   "metadata": {
    "collapsed": true
   },
   "outputs": [],
   "source": [
    "model_fast.most_similar('Age of Myth: Book One of The Legends of the First Empire')"
   ]
  },
  {
   "cell_type": "code",
   "execution_count": null,
   "metadata": {
    "collapsed": true
   },
   "outputs": [],
   "source": [
    "print(model_fast)"
   ]
  },
  {
   "cell_type": "code",
   "execution_count": null,
   "metadata": {
    "collapsed": true,
    "scrolled": true
   },
   "outputs": [],
   "source": [
    "print(model_fast['Tor Fantasy'])"
   ]
  },
  {
   "cell_type": "code",
   "execution_count": null,
   "metadata": {
    "collapsed": true
   },
   "outputs": [],
   "source": [
    "model_fast.most_similar(\"Harry Potter And The Goblet Of Fire\")"
   ]
  },
  {
   "cell_type": "code",
   "execution_count": null,
   "metadata": {
    "collapsed": true
   },
   "outputs": [],
   "source": [
    "model_fast.most_similar(\"Bloomsbury\")"
   ]
  },
  {
   "cell_type": "code",
   "execution_count": null,
   "metadata": {
    "collapsed": true,
    "scrolled": true
   },
   "outputs": [],
   "source": [
    "model_fast.most_similar('March 3, 2015')"
   ]
  },
  {
   "cell_type": "code",
   "execution_count": null,
   "metadata": {
    "collapsed": true
   },
   "outputs": [],
   "source": [
    "model_fast.most_similar('The Way of Kings')"
   ]
  },
  {
   "cell_type": "code",
   "execution_count": null,
   "metadata": {
    "collapsed": true
   },
   "outputs": [],
   "source": [
    "model_fast.most_similar(\"Brandon Sanderson\")"
   ]
  },
  {
   "cell_type": "code",
   "execution_count": null,
   "metadata": {
    "collapsed": true
   },
   "outputs": [],
   "source": [
    "model_fast.save(\"amazonModelFastText.w2v\")"
   ]
  },
  {
   "cell_type": "code",
   "execution_count": null,
   "metadata": {
    "collapsed": true
   },
   "outputs": [],
   "source": [
    "#hospital dataset\n",
    "\n",
    "#1. load hospital dataset and turthvalue.csv; mark error for unmatched values and cleanup using FastText; fill empty cells with word2vec\n",
    "#finding errors and outliers -> discover FDs and try marking errors? or word2vec most_similar of val and if row does not contain the cell values??!\n",
    "\n",
    "df_hospital = pd.read_csv('sorted_output.csv', dtype=object)\n",
    "df_truth = pd.read_csv('truthvalue.csv', dtype=object)\n",
    "\n",
    "df_hospital.head()\n",
    "\n",
    "provider = df_truth['ProviderNumber'].tolist()\n",
    "hospital = df_truth['HospitalName'].tolist()\n",
    "address = df_truth['Address1'].tolist()\n",
    "city = df_truth['City'].tolist()\n",
    "state = df_truth['State'].tolist()\n",
    "zipcode = df_truth['ZipCode'].tolist()\n",
    "county = df_truth['CountyName'].tolist()\n",
    "phone = df_truth['PhoneNumber'].tolist()\n",
    "hospType = df_truth['HospitalType'].tolist()\n",
    "owner = df_truth['HospitalOwner'].tolist()\n",
    "service = df_truth['EmergencyService'].tolist()\n",
    "condition = df_truth['Condition'].tolist()\n",
    "code = df_truth['MeasureCode'].tolist()\n",
    "name = df_truth['MeasureName'].tolist()\n",
    "score = df_truth['Score'].tolist()\n",
    "sample = df_truth['Sample'].tolist()\n",
    "stateavg = df_truth['Stateavg'].tolist()\n",
    "\n",
    "combined_hosp = list(zip(provider, hospital, address, city, state, zipcode, county, phone, hospType, owner, service, condition, code, name, score, sample, stateavg))"
   ]
  },
  {
   "cell_type": "code",
   "execution_count": null,
   "metadata": {
    "collapsed": true
   },
   "outputs": [],
   "source": [
    "#hospital dirty dataset; maintain dirty dataset separately\n",
    "provider = df_hospital['provider'].tolist()\n",
    "hospital = df_hospital['hospital name'].tolist()\n",
    "address = df_hospital['address1'].tolist()\n",
    "city = df_hospital['city'].tolist()\n",
    "state = df_hospital['state'].tolist()\n",
    "zipcode = df_hospital['zip code'].tolist()\n",
    "county = df_hospital['county name'].tolist()\n",
    "phone = df_hospital['phone number'].tolist()\n",
    "hospType = df_hospital['hospital type'].tolist()\n",
    "owner = df_hospital['hospital owner'].tolist()\n",
    "service = df_hospital['emergency service'].tolist()\n",
    "condition = df_hospital['condition'].tolist()\n",
    "code = df_hospital['measure code'].tolist()\n",
    "name = df_hospital['measure name'].tolist()\n",
    "score = df_hospital['score'].tolist()\n",
    "sample = df_hospital['sample'].tolist()\n",
    "stateavg = df_hospital['stateavg'].tolist()\n",
    "\n",
    "combined_dirty = list(zip(provider, hospital, address, city, state, zipcode, county, phone, hospType, owner, service, condition, code, name, score, sample, stateavg))\n",
    "len(combined_hosp)\n",
    "combined_hosp[0]"
   ]
  },
  {
   "cell_type": "code",
   "execution_count": null,
   "metadata": {
    "collapsed": true
   },
   "outputs": [],
   "source": [
    "#Calculating error or dirty cells\n",
    "dirty_list = []\n",
    "\n",
    "for i in range(len(combined_dirty)):\n",
    "    for j in range(len(combined_dirty[0])):\n",
    "        if combined_dirty[i][j] != combined_hosp[i][j]:\n",
    "            dirty_list.append(combined_dirty[i][j]) "
   ]
  },
  {
   "cell_type": "code",
   "execution_count": null,
   "metadata": {
    "collapsed": true
   },
   "outputs": [],
   "source": [
    "#train fasttext - cbow for hospital dataset\n",
    "model_hosp = FastText(combined_hosp, min_count=1, workers=8, iter=100)\n",
    "\n",
    "#compare df_hospital and combined[i]. Mark error for any difference in values by maintaining them in separate list. \n",
    "#Perform model_hosp.most_similar(error_cell) and update the error value with closest similarity measure\n",
    "#Evaluate accuracy with df_truth\n",
    "#next step - determine errors or outliers\n",
    "for i in range(len(dirty_list)):\n",
    "    for j in range(len(dirty_list[0])):\n",
    "        model_hosp.most_similar(dirty_list[i][j])\n",
    "        #TODO: Take the top possible values or top value (for now) and correct the error.\n",
    "        #Once done calculate the diff/accuracy with df_truth"
   ]
  },
  {
   "cell_type": "code",
   "execution_count": null,
   "metadata": {},
   "outputs": [],
   "source": [
    "model_hosp.save(\"hospitalModelFastText.w2v\")"
   ]
  },
  {
   "cell_type": "code",
   "execution_count": null,
   "metadata": {
    "collapsed": true
   },
   "outputs": [],
   "source": []
  }
 ],
 "metadata": {
  "kernelspec": {
   "display_name": "Python 3",
   "language": "python",
   "name": "python3"
  },
  "language_info": {
   "codemirror_mode": {
    "name": "ipython",
    "version": 3
   },
   "file_extension": ".py",
   "mimetype": "text/x-python",
   "name": "python",
   "nbconvert_exporter": "python",
   "pygments_lexer": "ipython3",
   "version": "3.6.1"
  },
  "toc": {
   "nav_menu": {},
   "number_sections": true,
   "sideBar": true,
   "skip_h1_title": true,
   "title_cell": "Table of Contents",
   "title_sidebar": "Contents",
   "toc_cell": false,
   "toc_position": {},
   "toc_section_display": true,
   "toc_window_display": false
  }
 },
 "nbformat": 4,
 "nbformat_minor": 2
}
