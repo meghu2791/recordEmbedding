{
 "cells": [
  {
   "cell_type": "markdown",
   "metadata": {},
   "source": [
    "Here, we create a multiclass classifier for classifying the various closest vectors returned by the model, as the corresponding attributes."
   ]
  },
  {
   "cell_type": "code",
   "execution_count": 511,
   "metadata": {},
   "outputs": [],
   "source": [
    "import warnings\n",
    "warnings.filterwarnings('ignore')\n",
    "\n",
    "from gensim.models.wrappers import FastText\n",
    "from gensim.models import Word2Vec\n",
    "from gensim.models import KeyedVectors\n",
    "\n",
    "import pandas as pd\n",
    "import numpy as np\n",
    "import h5py\n",
    "import pickle\n",
    "from sklearn.model_selection import train_test_split\n",
    "\n",
    "from keras.preprocessing import sequence\n",
    "from keras import models\n",
    "from keras import layers\n",
    "from keras import activations\n",
    "from keras import optimizers\n",
    "from keras import losses\n",
    "from keras import metrics\n",
    "from keras.layers import Dropout\n",
    "from keras.preprocessing.text import Tokenizer\n",
    "from keras.preprocessing.sequence import pad_sequences\n",
    "from keras.utils import to_categorical\n",
    "import keras.preprocessing.text\n",
    "from keras.models import load_model\n",
    "\n",
    "import matplotlib.pyplot as plt\n",
    "%matplotlib inline"
   ]
  },
  {
   "cell_type": "markdown",
   "metadata": {},
   "source": [
    "## Prepare Dataset"
   ]
  },
  {
   "cell_type": "markdown",
   "metadata": {},
   "source": [
    "Read the data"
   ]
  },
  {
   "cell_type": "code",
   "execution_count": 260,
   "metadata": {},
   "outputs": [],
   "source": [
    "df = pd.read_csv('truthvalue_classifier.csv', encoding='utf8')"
   ]
  },
  {
   "cell_type": "code",
   "execution_count": 261,
   "metadata": {},
   "outputs": [
    {
     "data": {
      "text/html": [
       "<div>\n",
       "<style scoped>\n",
       "    .dataframe tbody tr th:only-of-type {\n",
       "        vertical-align: middle;\n",
       "    }\n",
       "\n",
       "    .dataframe tbody tr th {\n",
       "        vertical-align: top;\n",
       "    }\n",
       "\n",
       "    .dataframe thead th {\n",
       "        text-align: right;\n",
       "    }\n",
       "</style>\n",
       "<table border=\"1\" class=\"dataframe\">\n",
       "  <thead>\n",
       "    <tr style=\"text-align: right;\">\n",
       "      <th></th>\n",
       "      <th>ProviderNumber</th>\n",
       "      <th>HospitalName</th>\n",
       "      <th>Address1</th>\n",
       "      <th>City</th>\n",
       "      <th>State</th>\n",
       "      <th>ZipCode</th>\n",
       "      <th>CountyName</th>\n",
       "      <th>PhoneNumber</th>\n",
       "      <th>HospitalType</th>\n",
       "      <th>HospitalOwner</th>\n",
       "      <th>EmergencyService</th>\n",
       "      <th>MeasureCode</th>\n",
       "    </tr>\n",
       "  </thead>\n",
       "  <tbody>\n",
       "    <tr>\n",
       "      <th>0</th>\n",
       "      <td>10018</td>\n",
       "      <td>CALLAHAN EYE FOUNDATION HOSPITAL</td>\n",
       "      <td>1720 UNIVERSITY BLVD</td>\n",
       "      <td>BIRMINGHAM</td>\n",
       "      <td>AL</td>\n",
       "      <td>35233</td>\n",
       "      <td>JEFFERSON</td>\n",
       "      <td>2053258100</td>\n",
       "      <td>Acute Care Hospitals</td>\n",
       "      <td>Voluntary non-profit - Private</td>\n",
       "      <td>Yes</td>\n",
       "      <td>SCIP-CARD-2</td>\n",
       "    </tr>\n",
       "    <tr>\n",
       "      <th>1</th>\n",
       "      <td>10018</td>\n",
       "      <td>CALLAHAN EYE FOUNDATION HOSPITAL</td>\n",
       "      <td>1720 UNIVERSITY BLVD</td>\n",
       "      <td>BIRMINGHAM</td>\n",
       "      <td>AL</td>\n",
       "      <td>35233</td>\n",
       "      <td>JEFFERSON</td>\n",
       "      <td>2053258100</td>\n",
       "      <td>Acute Care Hospitals</td>\n",
       "      <td>Voluntary non-profit - Private</td>\n",
       "      <td>Yes</td>\n",
       "      <td>SCIP-INF-1</td>\n",
       "    </tr>\n",
       "    <tr>\n",
       "      <th>2</th>\n",
       "      <td>10018</td>\n",
       "      <td>CALLAHAN EYE FOUNDATION HOSPITAL</td>\n",
       "      <td>1720 UNIVERSITY BLVD</td>\n",
       "      <td>BIRMINGHAM</td>\n",
       "      <td>AL</td>\n",
       "      <td>35233</td>\n",
       "      <td>JEFFERSON</td>\n",
       "      <td>2053258100</td>\n",
       "      <td>Acute Care Hospitals</td>\n",
       "      <td>Voluntary non-profit - Private</td>\n",
       "      <td>Yes</td>\n",
       "      <td>SCIP-INF-2</td>\n",
       "    </tr>\n",
       "    <tr>\n",
       "      <th>3</th>\n",
       "      <td>10018</td>\n",
       "      <td>CALLAHAN EYE FOUNDATION HOSPITAL</td>\n",
       "      <td>1720 UNIVERSITY BLVD</td>\n",
       "      <td>BIRMINGHAM</td>\n",
       "      <td>AL</td>\n",
       "      <td>35233</td>\n",
       "      <td>JEFFERSON</td>\n",
       "      <td>2053258100</td>\n",
       "      <td>Acute Care Hospitals</td>\n",
       "      <td>Voluntary non-profit - Private</td>\n",
       "      <td>Yes</td>\n",
       "      <td>SCIP-INF-3</td>\n",
       "    </tr>\n",
       "    <tr>\n",
       "      <th>4</th>\n",
       "      <td>10018</td>\n",
       "      <td>CALLAHAN EYE FOUNDATION HOSPITAL</td>\n",
       "      <td>1720 UNIVERSITY BLVD</td>\n",
       "      <td>BIRMINGHAM</td>\n",
       "      <td>AL</td>\n",
       "      <td>35233</td>\n",
       "      <td>JEFFERSON</td>\n",
       "      <td>2053258100</td>\n",
       "      <td>Acute Care Hospitals</td>\n",
       "      <td>Voluntary non-profit - Private</td>\n",
       "      <td>Yes</td>\n",
       "      <td>SCIP-INF-4</td>\n",
       "    </tr>\n",
       "  </tbody>\n",
       "</table>\n",
       "</div>"
      ],
      "text/plain": [
       "   ProviderNumber                      HospitalName              Address1  \\\n",
       "0           10018  CALLAHAN EYE FOUNDATION HOSPITAL  1720 UNIVERSITY BLVD   \n",
       "1           10018  CALLAHAN EYE FOUNDATION HOSPITAL  1720 UNIVERSITY BLVD   \n",
       "2           10018  CALLAHAN EYE FOUNDATION HOSPITAL  1720 UNIVERSITY BLVD   \n",
       "3           10018  CALLAHAN EYE FOUNDATION HOSPITAL  1720 UNIVERSITY BLVD   \n",
       "4           10018  CALLAHAN EYE FOUNDATION HOSPITAL  1720 UNIVERSITY BLVD   \n",
       "\n",
       "         City State  ZipCode CountyName  PhoneNumber          HospitalType  \\\n",
       "0  BIRMINGHAM    AL    35233  JEFFERSON   2053258100  Acute Care Hospitals   \n",
       "1  BIRMINGHAM    AL    35233  JEFFERSON   2053258100  Acute Care Hospitals   \n",
       "2  BIRMINGHAM    AL    35233  JEFFERSON   2053258100  Acute Care Hospitals   \n",
       "3  BIRMINGHAM    AL    35233  JEFFERSON   2053258100  Acute Care Hospitals   \n",
       "4  BIRMINGHAM    AL    35233  JEFFERSON   2053258100  Acute Care Hospitals   \n",
       "\n",
       "                    HospitalOwner EmergencyService  MeasureCode  \n",
       "0  Voluntary non-profit - Private              Yes  SCIP-CARD-2  \n",
       "1  Voluntary non-profit - Private              Yes   SCIP-INF-1  \n",
       "2  Voluntary non-profit - Private              Yes   SCIP-INF-2  \n",
       "3  Voluntary non-profit - Private              Yes   SCIP-INF-3  \n",
       "4  Voluntary non-profit - Private              Yes   SCIP-INF-4  "
      ]
     },
     "execution_count": 261,
     "metadata": {},
     "output_type": "execute_result"
    }
   ],
   "source": [
    "df.head()"
   ]
  },
  {
   "cell_type": "code",
   "execution_count": 262,
   "metadata": {},
   "outputs": [
    {
     "data": {
      "text/plain": [
       "1000"
      ]
     },
     "execution_count": 262,
     "metadata": {},
     "output_type": "execute_result"
    }
   ],
   "source": [
    "len(df)"
   ]
  },
  {
   "cell_type": "code",
   "execution_count": 267,
   "metadata": {},
   "outputs": [
    {
     "data": {
      "text/plain": [
       "array(['ProviderNumber', 'HospitalName', 'Address1', 'City', 'State',\n",
       "       'ZipCode', 'CountyName', 'PhoneNumber', 'HospitalType',\n",
       "       'HospitalOwner', 'EmergencyService', 'MeasureCode'], dtype=object)"
      ]
     },
     "execution_count": 267,
     "metadata": {},
     "output_type": "execute_result"
    }
   ],
   "source": [
    "df.columns.values"
   ]
  },
  {
   "cell_type": "code",
   "execution_count": 268,
   "metadata": {},
   "outputs": [],
   "source": [
    "#hospital dataset\n",
    "\n",
    "#1. load hospital dataset and turthvalue.csv; mark error for unmatched values and cleanup using FastText; fill empty cells with word2vec\n",
    "#finding errors and outliers -> discover FDs and try marking errors? or word2vec most_similar of val and if row does not contain the cell values??!\n",
    "\n",
    "df_hospital = pd.read_csv('dirty_data_transformed.csv', dtype=object)\n",
    "df_truth = pd.read_csv('truthvalue.csv', dtype=object)\n",
    "\n",
    "provider = df_truth['ProviderNumber'].tolist()\n",
    "hospital = df_truth['HospitalName'].tolist()\n",
    "address = df_truth['Address1'].tolist()\n",
    "city = df_truth['City'].tolist()\n",
    "state = df_truth['State'].tolist()\n",
    "zipcode = df_truth['ZipCode'].tolist()\n",
    "county = df_truth['CountyName'].tolist()\n",
    "phone = df_truth['PhoneNumber'].tolist()\n",
    "hospType = df_truth['HospitalType'].tolist()\n",
    "owner = df_truth['HospitalOwner'].tolist()\n",
    "service = df_truth['EmergencyService'].tolist()\n",
    "code = df_truth['MeasureCode'].tolist()\n",
    "\n",
    "combined_hosp = list(zip(provider, hospital, address, city, state, zipcode, county, phone, hospType, owner, service, code))\n"
   ]
  },
  {
   "cell_type": "code",
   "execution_count": 271,
   "metadata": {},
   "outputs": [],
   "source": [
    "values = [provider, hospital, address, city, state, zipcode, county, phone, hospType, owner, service, code]\n",
    "attributes = ['Provider', 'Hospital', 'Address', 'City', 'State', 'Zipcode', 'County', 'Phone', 'hospType', 'Owner', 'Service', 'Code']"
   ]
  },
  {
   "cell_type": "markdown",
   "metadata": {},
   "source": [
    "Create value, attribute-name tuple pairs"
   ]
  },
  {
   "cell_type": "code",
   "execution_count": 272,
   "metadata": {},
   "outputs": [],
   "source": [
    "data = []\n",
    "for i in range(len(values)):\n",
    "    for value in values[i]:\n",
    "        data.append([value, attributes[i]])"
   ]
  },
  {
   "cell_type": "code",
   "execution_count": 273,
   "metadata": {},
   "outputs": [
    {
     "data": {
      "text/plain": [
       "12000"
      ]
     },
     "execution_count": 273,
     "metadata": {},
     "output_type": "execute_result"
    }
   ],
   "source": [
    "len(data)"
   ]
  },
  {
   "cell_type": "code",
   "execution_count": 274,
   "metadata": {},
   "outputs": [
    {
     "data": {
      "text/plain": [
       "[['10018', 'Provider'],\n",
       " ['10018', 'Provider'],\n",
       " ['10018', 'Provider'],\n",
       " ['10018', 'Provider'],\n",
       " ['10018', 'Provider'],\n",
       " ['10018', 'Provider'],\n",
       " ['10018', 'Provider'],\n",
       " ['10018', 'Provider'],\n",
       " ['10019', 'Provider'],\n",
       " ['10019', 'Provider']]"
      ]
     },
     "execution_count": 274,
     "metadata": {},
     "output_type": "execute_result"
    }
   ],
   "source": [
    "data[:10]"
   ]
  },
  {
   "cell_type": "code",
   "execution_count": 275,
   "metadata": {},
   "outputs": [
    {
     "data": {
      "text/plain": [
       "[['HF-4', 'Code'],\n",
       " ['PN-2', 'Code'],\n",
       " ['PN-3B', 'Code'],\n",
       " ['PN-4', 'Code'],\n",
       " ['PN-5C', 'Code'],\n",
       " ['PN-6', 'Code'],\n",
       " ['PN-7', 'Code'],\n",
       " ['SCIP-CARD-2', 'Code'],\n",
       " ['SCIP-INF-1', 'Code'],\n",
       " ['SCIP-INF-2', 'Code']]"
      ]
     },
     "execution_count": 275,
     "metadata": {},
     "output_type": "execute_result"
    }
   ],
   "source": [
    "data[-10:]"
   ]
  },
  {
   "cell_type": "code",
   "execution_count": 276,
   "metadata": {},
   "outputs": [],
   "source": [
    "dfData = pd.DataFrame(data, columns=['Value','Label'])"
   ]
  },
  {
   "cell_type": "code",
   "execution_count": 277,
   "metadata": {},
   "outputs": [
    {
     "data": {
      "text/html": [
       "<div>\n",
       "<style scoped>\n",
       "    .dataframe tbody tr th:only-of-type {\n",
       "        vertical-align: middle;\n",
       "    }\n",
       "\n",
       "    .dataframe tbody tr th {\n",
       "        vertical-align: top;\n",
       "    }\n",
       "\n",
       "    .dataframe thead th {\n",
       "        text-align: right;\n",
       "    }\n",
       "</style>\n",
       "<table border=\"1\" class=\"dataframe\">\n",
       "  <thead>\n",
       "    <tr style=\"text-align: right;\">\n",
       "      <th></th>\n",
       "      <th>Value</th>\n",
       "      <th>Label</th>\n",
       "    </tr>\n",
       "  </thead>\n",
       "  <tbody>\n",
       "    <tr>\n",
       "      <th>0</th>\n",
       "      <td>10018</td>\n",
       "      <td>Provider</td>\n",
       "    </tr>\n",
       "    <tr>\n",
       "      <th>1</th>\n",
       "      <td>10018</td>\n",
       "      <td>Provider</td>\n",
       "    </tr>\n",
       "    <tr>\n",
       "      <th>2</th>\n",
       "      <td>10018</td>\n",
       "      <td>Provider</td>\n",
       "    </tr>\n",
       "    <tr>\n",
       "      <th>3</th>\n",
       "      <td>10018</td>\n",
       "      <td>Provider</td>\n",
       "    </tr>\n",
       "    <tr>\n",
       "      <th>4</th>\n",
       "      <td>10018</td>\n",
       "      <td>Provider</td>\n",
       "    </tr>\n",
       "  </tbody>\n",
       "</table>\n",
       "</div>"
      ],
      "text/plain": [
       "   Value     Label\n",
       "0  10018  Provider\n",
       "1  10018  Provider\n",
       "2  10018  Provider\n",
       "3  10018  Provider\n",
       "4  10018  Provider"
      ]
     },
     "execution_count": 277,
     "metadata": {},
     "output_type": "execute_result"
    }
   ],
   "source": [
    "dfData.head()"
   ]
  },
  {
   "cell_type": "code",
   "execution_count": 278,
   "metadata": {},
   "outputs": [
    {
     "data": {
      "text/html": [
       "<div>\n",
       "<style scoped>\n",
       "    .dataframe tbody tr th:only-of-type {\n",
       "        vertical-align: middle;\n",
       "    }\n",
       "\n",
       "    .dataframe tbody tr th {\n",
       "        vertical-align: top;\n",
       "    }\n",
       "\n",
       "    .dataframe thead th {\n",
       "        text-align: right;\n",
       "    }\n",
       "</style>\n",
       "<table border=\"1\" class=\"dataframe\">\n",
       "  <thead>\n",
       "    <tr style=\"text-align: right;\">\n",
       "      <th></th>\n",
       "      <th>Value</th>\n",
       "      <th>Label</th>\n",
       "    </tr>\n",
       "  </thead>\n",
       "  <tbody>\n",
       "    <tr>\n",
       "      <th>11995</th>\n",
       "      <td>PN-6</td>\n",
       "      <td>Code</td>\n",
       "    </tr>\n",
       "    <tr>\n",
       "      <th>11996</th>\n",
       "      <td>PN-7</td>\n",
       "      <td>Code</td>\n",
       "    </tr>\n",
       "    <tr>\n",
       "      <th>11997</th>\n",
       "      <td>SCIP-CARD-2</td>\n",
       "      <td>Code</td>\n",
       "    </tr>\n",
       "    <tr>\n",
       "      <th>11998</th>\n",
       "      <td>SCIP-INF-1</td>\n",
       "      <td>Code</td>\n",
       "    </tr>\n",
       "    <tr>\n",
       "      <th>11999</th>\n",
       "      <td>SCIP-INF-2</td>\n",
       "      <td>Code</td>\n",
       "    </tr>\n",
       "  </tbody>\n",
       "</table>\n",
       "</div>"
      ],
      "text/plain": [
       "             Value Label\n",
       "11995         PN-6  Code\n",
       "11996         PN-7  Code\n",
       "11997  SCIP-CARD-2  Code\n",
       "11998   SCIP-INF-1  Code\n",
       "11999   SCIP-INF-2  Code"
      ]
     },
     "execution_count": 278,
     "metadata": {},
     "output_type": "execute_result"
    }
   ],
   "source": [
    "dfData.tail()"
   ]
  },
  {
   "cell_type": "markdown",
   "metadata": {},
   "source": [
    "Convert labels to categorical attributes"
   ]
  },
  {
   "cell_type": "code",
   "execution_count": 279,
   "metadata": {},
   "outputs": [],
   "source": [
    "dfData['Label'] = dfData['Label'].astype('category')"
   ]
  },
  {
   "cell_type": "code",
   "execution_count": 280,
   "metadata": {},
   "outputs": [],
   "source": [
    "dfData[\"Label_Cat\"] = dfData[\"Label\"].cat.codes"
   ]
  },
  {
   "cell_type": "code",
   "execution_count": 281,
   "metadata": {},
   "outputs": [
    {
     "data": {
      "text/html": [
       "<div>\n",
       "<style scoped>\n",
       "    .dataframe tbody tr th:only-of-type {\n",
       "        vertical-align: middle;\n",
       "    }\n",
       "\n",
       "    .dataframe tbody tr th {\n",
       "        vertical-align: top;\n",
       "    }\n",
       "\n",
       "    .dataframe thead th {\n",
       "        text-align: right;\n",
       "    }\n",
       "</style>\n",
       "<table border=\"1\" class=\"dataframe\">\n",
       "  <thead>\n",
       "    <tr style=\"text-align: right;\">\n",
       "      <th></th>\n",
       "      <th>Value</th>\n",
       "      <th>Label</th>\n",
       "      <th>Label_Cat</th>\n",
       "    </tr>\n",
       "  </thead>\n",
       "  <tbody>\n",
       "    <tr>\n",
       "      <th>11995</th>\n",
       "      <td>PN-6</td>\n",
       "      <td>Code</td>\n",
       "      <td>2</td>\n",
       "    </tr>\n",
       "    <tr>\n",
       "      <th>11996</th>\n",
       "      <td>PN-7</td>\n",
       "      <td>Code</td>\n",
       "      <td>2</td>\n",
       "    </tr>\n",
       "    <tr>\n",
       "      <th>11997</th>\n",
       "      <td>SCIP-CARD-2</td>\n",
       "      <td>Code</td>\n",
       "      <td>2</td>\n",
       "    </tr>\n",
       "    <tr>\n",
       "      <th>11998</th>\n",
       "      <td>SCIP-INF-1</td>\n",
       "      <td>Code</td>\n",
       "      <td>2</td>\n",
       "    </tr>\n",
       "    <tr>\n",
       "      <th>11999</th>\n",
       "      <td>SCIP-INF-2</td>\n",
       "      <td>Code</td>\n",
       "      <td>2</td>\n",
       "    </tr>\n",
       "  </tbody>\n",
       "</table>\n",
       "</div>"
      ],
      "text/plain": [
       "             Value Label  Label_Cat\n",
       "11995         PN-6  Code          2\n",
       "11996         PN-7  Code          2\n",
       "11997  SCIP-CARD-2  Code          2\n",
       "11998   SCIP-INF-1  Code          2\n",
       "11999   SCIP-INF-2  Code          2"
      ]
     },
     "execution_count": 281,
     "metadata": {},
     "output_type": "execute_result"
    }
   ],
   "source": [
    "dfData.tail()"
   ]
  },
  {
   "cell_type": "code",
   "execution_count": 282,
   "metadata": {},
   "outputs": [
    {
     "data": {
      "text/plain": [
       "7     1000\n",
       "6     1000\n",
       "5     1000\n",
       "4     1000\n",
       "11    1000\n",
       "3     1000\n",
       "10    1000\n",
       "2     1000\n",
       "9     1000\n",
       "1     1000\n",
       "8     1000\n",
       "0     1000\n",
       "Name: Label_Cat, dtype: int64"
      ]
     },
     "execution_count": 282,
     "metadata": {},
     "output_type": "execute_result"
    }
   ],
   "source": [
    "dfData['Label_Cat'].value_counts()"
   ]
  },
  {
   "cell_type": "markdown",
   "metadata": {},
   "source": [
    "Get the mapping"
   ]
  },
  {
   "cell_type": "code",
   "execution_count": 283,
   "metadata": {},
   "outputs": [],
   "source": [
    "mapping = dict(enumerate(dfData['Label'].cat.categories))"
   ]
  },
  {
   "cell_type": "code",
   "execution_count": 284,
   "metadata": {},
   "outputs": [
    {
     "data": {
      "text/plain": [
       "{0: 'Address',\n",
       " 1: 'City',\n",
       " 2: 'Code',\n",
       " 3: 'County',\n",
       " 4: 'Hospital',\n",
       " 5: 'Owner',\n",
       " 6: 'Phone',\n",
       " 7: 'Provider',\n",
       " 8: 'Service',\n",
       " 9: 'State',\n",
       " 10: 'Zipcode',\n",
       " 11: 'hospType'}"
      ]
     },
     "execution_count": 284,
     "metadata": {},
     "output_type": "execute_result"
    }
   ],
   "source": [
    "mapping"
   ]
  },
  {
   "cell_type": "markdown",
   "metadata": {},
   "source": [
    "Drop the Label column"
   ]
  },
  {
   "cell_type": "code",
   "execution_count": 285,
   "metadata": {},
   "outputs": [],
   "source": [
    "dfData.drop(['Label'], axis=1, inplace=True)"
   ]
  },
  {
   "cell_type": "code",
   "execution_count": 286,
   "metadata": {},
   "outputs": [
    {
     "data": {
      "text/html": [
       "<div>\n",
       "<style scoped>\n",
       "    .dataframe tbody tr th:only-of-type {\n",
       "        vertical-align: middle;\n",
       "    }\n",
       "\n",
       "    .dataframe tbody tr th {\n",
       "        vertical-align: top;\n",
       "    }\n",
       "\n",
       "    .dataframe thead th {\n",
       "        text-align: right;\n",
       "    }\n",
       "</style>\n",
       "<table border=\"1\" class=\"dataframe\">\n",
       "  <thead>\n",
       "    <tr style=\"text-align: right;\">\n",
       "      <th></th>\n",
       "      <th>Value</th>\n",
       "      <th>Label_Cat</th>\n",
       "    </tr>\n",
       "  </thead>\n",
       "  <tbody>\n",
       "    <tr>\n",
       "      <th>0</th>\n",
       "      <td>10018</td>\n",
       "      <td>7</td>\n",
       "    </tr>\n",
       "    <tr>\n",
       "      <th>1</th>\n",
       "      <td>10018</td>\n",
       "      <td>7</td>\n",
       "    </tr>\n",
       "    <tr>\n",
       "      <th>2</th>\n",
       "      <td>10018</td>\n",
       "      <td>7</td>\n",
       "    </tr>\n",
       "    <tr>\n",
       "      <th>3</th>\n",
       "      <td>10018</td>\n",
       "      <td>7</td>\n",
       "    </tr>\n",
       "    <tr>\n",
       "      <th>4</th>\n",
       "      <td>10018</td>\n",
       "      <td>7</td>\n",
       "    </tr>\n",
       "  </tbody>\n",
       "</table>\n",
       "</div>"
      ],
      "text/plain": [
       "   Value  Label_Cat\n",
       "0  10018          7\n",
       "1  10018          7\n",
       "2  10018          7\n",
       "3  10018          7\n",
       "4  10018          7"
      ]
     },
     "execution_count": 286,
     "metadata": {},
     "output_type": "execute_result"
    }
   ],
   "source": [
    "dfData.head()"
   ]
  },
  {
   "cell_type": "markdown",
   "metadata": {},
   "source": [
    "Shuffle the data"
   ]
  },
  {
   "cell_type": "code",
   "execution_count": 287,
   "metadata": {},
   "outputs": [],
   "source": [
    "dfData = dfData.sample(frac=1).reset_index(drop=True)"
   ]
  },
  {
   "cell_type": "code",
   "execution_count": 288,
   "metadata": {},
   "outputs": [
    {
     "data": {
      "text/html": [
       "<div>\n",
       "<style scoped>\n",
       "    .dataframe tbody tr th:only-of-type {\n",
       "        vertical-align: middle;\n",
       "    }\n",
       "\n",
       "    .dataframe tbody tr th {\n",
       "        vertical-align: top;\n",
       "    }\n",
       "\n",
       "    .dataframe thead th {\n",
       "        text-align: right;\n",
       "    }\n",
       "</style>\n",
       "<table border=\"1\" class=\"dataframe\">\n",
       "  <thead>\n",
       "    <tr style=\"text-align: right;\">\n",
       "      <th></th>\n",
       "      <th>Value</th>\n",
       "      <th>Label_Cat</th>\n",
       "    </tr>\n",
       "  </thead>\n",
       "  <tbody>\n",
       "    <tr>\n",
       "      <th>0</th>\n",
       "      <td>Acute Care Hospitals</td>\n",
       "      <td>11</td>\n",
       "    </tr>\n",
       "    <tr>\n",
       "      <th>1</th>\n",
       "      <td>Voluntary non-profit - Private</td>\n",
       "      <td>5</td>\n",
       "    </tr>\n",
       "    <tr>\n",
       "      <th>2</th>\n",
       "      <td>10005</td>\n",
       "      <td>7</td>\n",
       "    </tr>\n",
       "    <tr>\n",
       "      <th>3</th>\n",
       "      <td>4800 48TH ST</td>\n",
       "      <td>0</td>\n",
       "    </tr>\n",
       "    <tr>\n",
       "      <th>4</th>\n",
       "      <td>JEFFERSON</td>\n",
       "      <td>3</td>\n",
       "    </tr>\n",
       "    <tr>\n",
       "      <th>5</th>\n",
       "      <td>301 EAST 18TH ST</td>\n",
       "      <td>0</td>\n",
       "    </tr>\n",
       "    <tr>\n",
       "      <th>6</th>\n",
       "      <td>SOUTHEAST ALABAMA MEDICAL CENTER</td>\n",
       "      <td>4</td>\n",
       "    </tr>\n",
       "    <tr>\n",
       "      <th>7</th>\n",
       "      <td>Voluntary non-profit - Church</td>\n",
       "      <td>5</td>\n",
       "    </tr>\n",
       "    <tr>\n",
       "      <th>8</th>\n",
       "      <td>AL</td>\n",
       "      <td>9</td>\n",
       "    </tr>\n",
       "    <tr>\n",
       "      <th>9</th>\n",
       "      <td>36106</td>\n",
       "      <td>10</td>\n",
       "    </tr>\n",
       "  </tbody>\n",
       "</table>\n",
       "</div>"
      ],
      "text/plain": [
       "                              Value  Label_Cat\n",
       "0              Acute Care Hospitals         11\n",
       "1    Voluntary non-profit - Private          5\n",
       "2                             10005          7\n",
       "3                      4800 48TH ST          0\n",
       "4                         JEFFERSON          3\n",
       "5                  301 EAST 18TH ST          0\n",
       "6  SOUTHEAST ALABAMA MEDICAL CENTER          4\n",
       "7     Voluntary non-profit - Church          5\n",
       "8                                AL          9\n",
       "9                             36106         10"
      ]
     },
     "execution_count": 288,
     "metadata": {},
     "output_type": "execute_result"
    }
   ],
   "source": [
    "dfData.head(10)"
   ]
  },
  {
   "cell_type": "markdown",
   "metadata": {},
   "source": [
    "Find the longest string in the value column"
   ]
  },
  {
   "cell_type": "code",
   "execution_count": 289,
   "metadata": {
    "scrolled": true
   },
   "outputs": [
    {
     "data": {
      "text/plain": [
       "43"
      ]
     },
     "execution_count": 289,
     "metadata": {},
     "output_type": "execute_result"
    }
   ],
   "source": [
    "dfData.Value.map(lambda x: len(x)).max()"
   ]
  },
  {
   "cell_type": "code",
   "execution_count": 290,
   "metadata": {},
   "outputs": [],
   "source": [
    "X = dfData['Value'].tolist()\n",
    "y = dfData['Label_Cat'].tolist()"
   ]
  },
  {
   "cell_type": "markdown",
   "metadata": {},
   "source": [
    "## Tokenize and obtain the train, test split"
   ]
  },
  {
   "cell_type": "code",
   "execution_count": 1014,
   "metadata": {},
   "outputs": [],
   "source": [
    "batchSize = 20\n",
    "maxSequenceLength = 100\n",
    "maxWords = 300"
   ]
  },
  {
   "cell_type": "code",
   "execution_count": 1015,
   "metadata": {},
   "outputs": [],
   "source": [
    "tokenizer = Tokenizer(num_words=maxWords)"
   ]
  },
  {
   "cell_type": "code",
   "execution_count": 1047,
   "metadata": {},
   "outputs": [
    {
     "data": {
      "text/plain": [
       "{'1': 29,\n",
       " '1000': 278,\n",
       " '10001': 259,\n",
       " '10005': 123,\n",
       " '10006': 147,\n",
       " '10007': 163,\n",
       " '10008': 208,\n",
       " '10009': 202,\n",
       " '10010': 187,\n",
       " '10011': 197,\n",
       " '10012': 205,\n",
       " '10015': 211,\n",
       " '10016': 274,\n",
       " '10018': 181,\n",
       " '10019': 134,\n",
       " '10021': 137,\n",
       " '10022': 241,\n",
       " '10023': 317,\n",
       " '10024': 305,\n",
       " '10025': 185,\n",
       " '10027': 262,\n",
       " '10029': 164,\n",
       " '10032': 156,\n",
       " '10033': 270,\n",
       " '10034': 312,\n",
       " '10035': 280,\n",
       " '10036': 206,\n",
       " '10038': 107,\n",
       " '10039': 111,\n",
       " '10040': 175,\n",
       " '10043': 297,\n",
       " '10044': 264,\n",
       " '10045': 299,\n",
       " '10046': 109,\n",
       " '10047': 170,\n",
       " '10049': 180,\n",
       " '10050': 328,\n",
       " '10055': 351,\n",
       " '10056': 359,\n",
       " '1007': 290,\n",
       " '10085': 385,\n",
       " '10086': 238,\n",
       " '10087': 352,\n",
       " '101': 57,\n",
       " '1010': 191,\n",
       " '10108': 324,\n",
       " '10158': 369,\n",
       " '10164': 345,\n",
       " '1108': 222,\n",
       " '1201': 381,\n",
       " '124': 319,\n",
       " '1256': 243,\n",
       " '126': 139,\n",
       " '1300': 141,\n",
       " '150': 329,\n",
       " '15155': 379,\n",
       " '1530': 276,\n",
       " '157': 268,\n",
       " '1653': 232,\n",
       " '1720': 209,\n",
       " '1725': 217,\n",
       " '18th': 101,\n",
       " '1912': 267,\n",
       " '19th': 149,\n",
       " '2': 17,\n",
       " '200': 265,\n",
       " '2000': 294,\n",
       " '20017': 332,\n",
       " '20018': 365,\n",
       " '201': 273,\n",
       " '205': 199,\n",
       " '2052743000': 327,\n",
       " '2053258100': 220,\n",
       " '2054877736': 218,\n",
       " '2056208100': 283,\n",
       " '2057552500': 190,\n",
       " '2058383122': 159,\n",
       " '2059216200': 248,\n",
       " '2059325966': 256,\n",
       " '2059344011': 281,\n",
       " '2059397000': 360,\n",
       " '209': 198,\n",
       " '2105': 234,\n",
       " '2451': 353,\n",
       " '2505': 150,\n",
       " '2514717110': 357,\n",
       " '2562358900': 103,\n",
       " '2562495000': 335,\n",
       " '2562651000': 110,\n",
       " '2563321611': 371,\n",
       " '2563412000': 384,\n",
       " '2563572111': 236,\n",
       " '2563864556': 221,\n",
       " '2564944000': 269,\n",
       " '2565435200': 104,\n",
       " '2565718000': 306,\n",
       " '2565938310': 263,\n",
       " '2567372000': 308,\n",
       " '2567688400': 316,\n",
       " '2567736511': 132,\n",
       " '2568453150': 304,\n",
       " '2569275531': 318,\n",
       " '2801': 339,\n",
       " '287': 378,\n",
       " '3': 38,\n",
       " '301': 100,\n",
       " '315': 342,\n",
       " '3342228466': 158,\n",
       " '3342836541': 215,\n",
       " '3342882100': 167,\n",
       " '3342938000': 309,\n",
       " '3343353374': 242,\n",
       " '3343470584': 298,\n",
       " '3343614267': 321,\n",
       " '3343762205': 194,\n",
       " '3344933541': 160,\n",
       " '3346366221': 227,\n",
       " '3347493411': 179,\n",
       " '3347561400': 261,\n",
       " '3347742601': 292,\n",
       " '3347935000': 347,\n",
       " '3347938701': 255,\n",
       " '3348972257': 195,\n",
       " '33700': 289,\n",
       " '35007': 162,\n",
       " '35045': 138,\n",
       " '35058': 186,\n",
       " '35121': 322,\n",
       " '35150': 341,\n",
       " '35205': 361,\n",
       " '35233': 78,\n",
       " '35235': 277,\n",
       " '35555': 245,\n",
       " '35570': 131,\n",
       " '35594': 168,\n",
       " '35609': 386,\n",
       " '35631': 172,\n",
       " '35640': 247,\n",
       " '35653': 370,\n",
       " '35660': 174,\n",
       " '35801': 112,\n",
       " '35901': 119,\n",
       " '35903': 145,\n",
       " '35957': 216,\n",
       " '35960': 257,\n",
       " '35968': 176,\n",
       " '35976': 184,\n",
       " '36033': 146,\n",
       " '36049': 157,\n",
       " '36067': 326,\n",
       " '36078': 272,\n",
       " '36106': 127,\n",
       " '36116': 136,\n",
       " '36201': 116,\n",
       " '36278': 282,\n",
       " '36302': 246,\n",
       " '36305': 346,\n",
       " '36323': 213,\n",
       " '36330': 237,\n",
       " '36360': 239,\n",
       " '36420': 284,\n",
       " '36467': 311,\n",
       " '36617': 355,\n",
       " '36784': 310,\n",
       " '36801': 161,\n",
       " '36854': 271,\n",
       " '3b': 87,\n",
       " '4': 30,\n",
       " '400': 82,\n",
       " '43': 60,\n",
       " '431': 151,\n",
       " '4370': 348,\n",
       " '4800': 124,\n",
       " '48th': 125,\n",
       " '5': 92,\n",
       " '50': 302,\n",
       " '515': 250,\n",
       " '5c': 90,\n",
       " '6': 43,\n",
       " '600': 114,\n",
       " '619': 148,\n",
       " '69': 204,\n",
       " '7': 89,\n",
       " '702': 219,\n",
       " '7a': 94,\n",
       " '7th': 382,\n",
       " '8000': 203,\n",
       " '805': 165,\n",
       " '810': 362,\n",
       " '849': 142,\n",
       " '8a': 95,\n",
       " '9072761131': 334,\n",
       " '9075436300': 368,\n",
       " '987': 225,\n",
       " '99508': 338,\n",
       " '99559': 366,\n",
       " 'acute': 1,\n",
       " 'ak': 323,\n",
       " 'al': 4,\n",
       " 'alabama': 27,\n",
       " 'alabaster': 155,\n",
       " 'alaska': 331,\n",
       " 'ami': 15,\n",
       " 'anchorage': 98,\n",
       " 'and': 153,\n",
       " 'andalusia': 69,\n",
       " 'anniston': 108,\n",
       " 'autauga': 325,\n",
       " 'authority': 23,\n",
       " 'ave': 140,\n",
       " 'avenue': 46,\n",
       " 'baptist': 52,\n",
       " 'bethel': 363,\n",
       " 'birmingham': 41,\n",
       " 'blount': 93,\n",
       " 'blvd': 210,\n",
       " 'boaz': 253,\n",
       " 'boulevard': 235,\n",
       " 'box': 377,\n",
       " 'butler': 130,\n",
       " 'cac': 358,\n",
       " 'calhoun': 102,\n",
       " 'callahan': 228,\n",
       " 'card': 88,\n",
       " 'care': 2,\n",
       " 'center': 8,\n",
       " 'centre': 207,\n",
       " 'chambers': 201,\n",
       " 'cherokee': 73,\n",
       " 'chilton': 66,\n",
       " 'church': 45,\n",
       " 'circle': 77,\n",
       " 'clanton': 252,\n",
       " 'clark': 224,\n",
       " 'clarke': 240,\n",
       " 'clinic': 129,\n",
       " 'coffee': 47,\n",
       " 'community': 68,\n",
       " 'coosa': 333,\n",
       " 'covington': 70,\n",
       " 'crenshaw': 72,\n",
       " 'cullman': 48,\n",
       " 'dale': 80,\n",
       " 'dam': 193,\n",
       " 'de': 182,\n",
       " 'debarr': 340,\n",
       " 'decatur': 380,\n",
       " 'dekalb': 258,\n",
       " 'delta': 374,\n",
       " 'district': 21,\n",
       " 'dothan': 86,\n",
       " 'dr': 83,\n",
       " 'drayton': 226,\n",
       " 'drive': 51,\n",
       " 'east': 33,\n",
       " 'edwards': 275,\n",
       " 'elba': 79,\n",
       " 'eliza': 169,\n",
       " 'elmore': 231,\n",
       " 'enterprise': 63,\n",
       " 'etowah': 58,\n",
       " 'eye': 229,\n",
       " 'fayette': 50,\n",
       " 'federal': 59,\n",
       " 'fillingim': 354,\n",
       " 'first': 279,\n",
       " 'florence': 171,\n",
       " 'flowers': 350,\n",
       " 'fort': 188,\n",
       " 'foundation': 230,\n",
       " 'franklin': 367,\n",
       " 'friendship': 166,\n",
       " 'g': 285,\n",
       " 'gadsden': 42,\n",
       " 'general': 121,\n",
       " 'georgiana': 71,\n",
       " 'gilbreath': 330,\n",
       " 'goodyear': 291,\n",
       " 'government': 12,\n",
       " 'guntersville': 288,\n",
       " 'h': 286,\n",
       " 'hamilton': 173,\n",
       " 'hartselle': 67,\n",
       " 'helen': 314,\n",
       " 'hf': 28,\n",
       " 'hickory': 344,\n",
       " 'highway': 34,\n",
       " 'hospital': 6,\n",
       " 'hospitals': 3,\n",
       " 'houston': 85,\n",
       " 'huntsville': 56,\n",
       " 'inc': 62,\n",
       " 'inf': 24,\n",
       " 'jackson': 128,\n",
       " 'jefferson': 39,\n",
       " 'kalb': 183,\n",
       " 'keller': 315,\n",
       " 'kuskokwim': 373,\n",
       " 'lanier': 287,\n",
       " 'lauderdale': 133,\n",
       " 'lay': 192,\n",
       " 'lee': 260,\n",
       " 'local': 307,\n",
       " 'luverne': 313,\n",
       " 'madison': 117,\n",
       " 'main': 55,\n",
       " 'marengo': 200,\n",
       " 'marion': 49,\n",
       " 'marshall': 40,\n",
       " 'med': 266,\n",
       " 'medical': 7,\n",
       " 'memorial': 31,\n",
       " 'military': 244,\n",
       " 'miranda': 251,\n",
       " 'mizell': 301,\n",
       " 'mobile': 122,\n",
       " 'montgomery': 35,\n",
       " 'morgan': 120,\n",
       " 'n': 76,\n",
       " 'no': 32,\n",
       " 'non': 10,\n",
       " 'north': 36,\n",
       " 'northwest': 81,\n",
       " 'northwood': 300,\n",
       " 'notch': 144,\n",
       " 'of': 97,\n",
       " 'oneonta': 320,\n",
       " 'opelika': 196,\n",
       " 'opp': 212,\n",
       " 'or': 22,\n",
       " 'other': 37,\n",
       " 'ozark': 178,\n",
       " 'park': 303,\n",
       " 'parkway': 296,\n",
       " 'payne': 189,\n",
       " 'pepperell': 295,\n",
       " 'pine': 75,\n",
       " 'pn': 18,\n",
       " 'po': 376,\n",
       " 'prattville': 91,\n",
       " 'private': 16,\n",
       " 'profit': 11,\n",
       " 'proprietary': 19,\n",
       " 'randolph': 293,\n",
       " 'rd': 106,\n",
       " 'reg': 375,\n",
       " 'regional': 26,\n",
       " 'riverview': 118,\n",
       " 'road': 54,\n",
       " 'ross': 223,\n",
       " 'russellville': 364,\n",
       " 's': 53,\n",
       " 'scip': 14,\n",
       " 'se': 383,\n",
       " 'sheffield': 177,\n",
       " 'shelby': 61,\n",
       " 'sivley': 105,\n",
       " 'snf': 154,\n",
       " 'south': 20,\n",
       " 'southeast': 126,\n",
       " 'southwest': 152,\n",
       " 'st': 25,\n",
       " 'state': 96,\n",
       " 'street': 13,\n",
       " 'stringfellow': 113,\n",
       " 'sylacauga': 336,\n",
       " 'talladega': 337,\n",
       " 'tallassee': 249,\n",
       " 'temple': 233,\n",
       " 'third': 115,\n",
       " 'thomasville': 254,\n",
       " 'three': 143,\n",
       " 'u': 64,\n",
       " 'univ': 356,\n",
       " 'university': 74,\n",
       " 'valley': 84,\n",
       " \"vincent's\": 214,\n",
       " 'vincents': 99,\n",
       " 'voluntary': 9,\n",
       " 'vte': 44,\n",
       " 'w': 343,\n",
       " 'wedowee': 65,\n",
       " 'west': 349,\n",
       " 'winfield': 135,\n",
       " 'yes': 5,\n",
       " 'yukon': 372}"
      ]
     },
     "execution_count": 1047,
     "metadata": {},
     "output_type": "execute_result"
    }
   ],
   "source": [
    "tokenizer.fit_on_texts(X)\n",
    "sequences = tokenizer.texts_to_sequences(X)\n",
    "word_index = tokenizer.word_index\n",
    "word_index"
   ]
  },
  {
   "cell_type": "code",
   "execution_count": 1017,
   "metadata": {},
   "outputs": [
    {
     "name": "stdout",
     "output_type": "stream",
     "text": [
      "Found 386 unique tokens.\n"
     ]
    }
   ],
   "source": [
    "print('Found %s unique tokens.' % len(word_index))"
   ]
  },
  {
   "cell_type": "code",
   "execution_count": 1018,
   "metadata": {},
   "outputs": [
    {
     "data": {
      "text/plain": [
       "array([[  0,   0,   0, ...,   1,   2,   3],\n",
       "       [  0,   0,   0, ...,  10,  11,  16],\n",
       "       [  0,   0,   0, ...,   0,   0, 123],\n",
       "       ..., \n",
       "       [  0,   0,   0, ...,   0,   0,  47],\n",
       "       [  0,   0,   0, ...,   0,   0,   4],\n",
       "       [  0,   0,   0, ...,   0,   0,   4]], dtype=int32)"
      ]
     },
     "execution_count": 1018,
     "metadata": {},
     "output_type": "execute_result"
    }
   ],
   "source": [
    "data = pad_sequences(sequences, maxlen=maxSequenceLength)\n",
    "data"
   ]
  },
  {
   "cell_type": "code",
   "execution_count": 1019,
   "metadata": {},
   "outputs": [],
   "source": [
    "labels = np.asarray(y)"
   ]
  },
  {
   "cell_type": "code",
   "execution_count": 1020,
   "metadata": {},
   "outputs": [
    {
     "data": {
      "text/plain": [
       "(12000, 100)"
      ]
     },
     "execution_count": 1020,
     "metadata": {},
     "output_type": "execute_result"
    }
   ],
   "source": [
    "data.shape"
   ]
  },
  {
   "cell_type": "code",
   "execution_count": 1021,
   "metadata": {},
   "outputs": [
    {
     "data": {
      "text/plain": [
       "(12000,)"
      ]
     },
     "execution_count": 1021,
     "metadata": {},
     "output_type": "execute_result"
    }
   ],
   "source": [
    "labels.shape"
   ]
  },
  {
   "cell_type": "code",
   "execution_count": 1022,
   "metadata": {},
   "outputs": [],
   "source": [
    "labels = to_categorical(labels)"
   ]
  },
  {
   "cell_type": "code",
   "execution_count": 1023,
   "metadata": {},
   "outputs": [
    {
     "data": {
      "text/plain": [
       "(12000, 12)"
      ]
     },
     "execution_count": 1023,
     "metadata": {},
     "output_type": "execute_result"
    }
   ],
   "source": [
    "labels.shape"
   ]
  },
  {
   "cell_type": "markdown",
   "metadata": {},
   "source": [
    "Shuffle the dataset"
   ]
  },
  {
   "cell_type": "code",
   "execution_count": 1024,
   "metadata": {},
   "outputs": [],
   "source": [
    "indices = np.arange(data.shape[0])\n",
    "np.random.shuffle(indices)"
   ]
  },
  {
   "cell_type": "code",
   "execution_count": 1025,
   "metadata": {},
   "outputs": [],
   "source": [
    "data = data[indices]\n",
    "labels = labels[indices]"
   ]
  },
  {
   "cell_type": "markdown",
   "metadata": {},
   "source": [
    "Train test split"
   ]
  },
  {
   "cell_type": "code",
   "execution_count": 1026,
   "metadata": {},
   "outputs": [],
   "source": [
    "X_train, X_test, y_train, y_test = train_test_split(data, labels, test_size=0.2, random_state=42)"
   ]
  },
  {
   "cell_type": "code",
   "execution_count": 1027,
   "metadata": {},
   "outputs": [
    {
     "data": {
      "text/plain": [
       "(9600, 9600)"
      ]
     },
     "execution_count": 1027,
     "metadata": {},
     "output_type": "execute_result"
    }
   ],
   "source": [
    "len(X_train), len(y_train)"
   ]
  },
  {
   "cell_type": "code",
   "execution_count": 1028,
   "metadata": {},
   "outputs": [
    {
     "data": {
      "text/plain": [
       "(2400, 2400)"
      ]
     },
     "execution_count": 1028,
     "metadata": {},
     "output_type": "execute_result"
    }
   ],
   "source": [
    "len(X_test), len(y_test)"
   ]
  },
  {
   "cell_type": "markdown",
   "metadata": {},
   "source": [
    "## Model"
   ]
  },
  {
   "cell_type": "code",
   "execution_count": 1029,
   "metadata": {},
   "outputs": [],
   "source": [
    "embeddingDim = 80"
   ]
  },
  {
   "cell_type": "markdown",
   "metadata": {},
   "source": [
    "**Architecture**\n",
    "* 1 embedding layer \n",
    "* 1 dense layer, 32 hidden units and _relu_ activation\n",
    "* 1 dense layer, 64 hidden units and _relu_ activation\n",
    "* Output layer, _softmax_ activation"
   ]
  },
  {
   "cell_type": "code",
   "execution_count": 1030,
   "metadata": {},
   "outputs": [],
   "source": [
    "model = models.Sequential()\n",
    "model.add(layers.Embedding(maxWords, embeddingDim, input_length=maxSequenceLength))\n",
    "model.add(layers.Flatten())\n",
    "model.add(layers.Dense(32, activation=activations.relu))\n",
    "model.add(layers.Dense(64, activation=activations.relu))\n",
    "model.add(layers.Dense(12, activation=activations.softmax))\n",
    "\n",
    "model.compile(optimizer=optimizers.RMSprop(lr=0.001), loss=losses.categorical_crossentropy, metrics=['accuracy'])"
   ]
  },
  {
   "cell_type": "code",
   "execution_count": 1031,
   "metadata": {},
   "outputs": [
    {
     "name": "stdout",
     "output_type": "stream",
     "text": [
      "_________________________________________________________________\n",
      "Layer (type)                 Output Shape              Param #   \n",
      "=================================================================\n",
      "embedding_36 (Embedding)     (None, 100, 80)           24000     \n",
      "_________________________________________________________________\n",
      "flatten_36 (Flatten)         (None, 8000)              0         \n",
      "_________________________________________________________________\n",
      "dense_106 (Dense)            (None, 32)                256032    \n",
      "_________________________________________________________________\n",
      "dense_107 (Dense)            (None, 64)                2112      \n",
      "_________________________________________________________________\n",
      "dense_108 (Dense)            (None, 12)                780       \n",
      "=================================================================\n",
      "Total params: 282,924\n",
      "Trainable params: 282,924\n",
      "Non-trainable params: 0\n",
      "_________________________________________________________________\n"
     ]
    }
   ],
   "source": [
    "model.summary()"
   ]
  },
  {
   "cell_type": "code",
   "execution_count": 1032,
   "metadata": {},
   "outputs": [
    {
     "name": "stdout",
     "output_type": "stream",
     "text": [
      "Train on 7680 samples, validate on 1920 samples\n",
      "Epoch 1/10\n",
      "7680/7680 [==============================] - 6s 753us/step - loss: 1.4767 - acc: 0.5284 - val_loss: 0.6395 - val_acc: 0.7083\n",
      "Epoch 2/10\n",
      "7680/7680 [==============================] - 4s 468us/step - loss: 0.3542 - acc: 0.9010 - val_loss: 0.2474 - val_acc: 0.9307\n",
      "Epoch 3/10\n",
      "7680/7680 [==============================] - 4s 469us/step - loss: 0.1540 - acc: 0.9424 - val_loss: 0.1432 - val_acc: 0.9380\n",
      "Epoch 4/10\n",
      "7680/7680 [==============================] - 4s 471us/step - loss: 0.1288 - acc: 0.9480 - val_loss: 0.1302 - val_acc: 0.9380\n",
      "Epoch 5/10\n",
      "7680/7680 [==============================] - 4s 472us/step - loss: 0.1242 - acc: 0.9447 - val_loss: 0.1283 - val_acc: 0.9406\n",
      "Epoch 6/10\n",
      "7680/7680 [==============================] - 4s 532us/step - loss: 0.1204 - acc: 0.9497 - val_loss: 0.1159 - val_acc: 0.9495\n",
      "Epoch 7/10\n",
      "7680/7680 [==============================] - 4s 477us/step - loss: 0.1184 - acc: 0.9475 - val_loss: 0.1199 - val_acc: 0.9495\n",
      "Epoch 8/10\n",
      "7680/7680 [==============================] - 4s 472us/step - loss: 0.1147 - acc: 0.9478 - val_loss: 0.1327 - val_acc: 0.9458\n",
      "Epoch 9/10\n",
      "7680/7680 [==============================] - 4s 477us/step - loss: 0.1133 - acc: 0.9480 - val_loss: 0.1153 - val_acc: 0.9516\n",
      "Epoch 10/10\n",
      "7680/7680 [==============================] - 4s 481us/step - loss: 0.1131 - acc: 0.9482 - val_loss: 0.1200 - val_acc: 0.9469\n"
     ]
    }
   ],
   "source": [
    "history = model.fit(X_train, y_train,\n",
    "                    epochs=10,\n",
    "                    batch_size=batchSize, \n",
    "                    validation_split=0.2)"
   ]
  },
  {
   "cell_type": "code",
   "execution_count": 1033,
   "metadata": {},
   "outputs": [
    {
     "data": {
      "text/plain": [
       "dict_keys(['val_loss', 'val_acc', 'loss', 'acc'])"
      ]
     },
     "execution_count": 1033,
     "metadata": {},
     "output_type": "execute_result"
    }
   ],
   "source": [
    "history.history.keys()"
   ]
  },
  {
   "cell_type": "code",
   "execution_count": 1034,
   "metadata": {},
   "outputs": [
    {
     "data": {
      "image/png": "[encoded data removed]",
      "text/plain": [
       "<matplotlib.figure.Figure at 0x1a8aab9f98>"
      ]
     },
     "metadata": {},
     "output_type": "display_data"
    },
    {
     "data": {
      "image/png": "[encoded data removed]",
      "text/plain": [
       "<matplotlib.figure.Figure at 0x1a96fce668>"
      ]
     },
     "metadata": {},
     "output_type": "display_data"
    }
   ],
   "source": [
    "acc = history.history['acc']\n",
    "val_acc = history.history['val_acc']\n",
    "\n",
    "loss = history.history['loss']\n",
    "val_loss = history.history['val_loss']\n",
    "\n",
    "epochs = range(1, len(acc) + 1)\n",
    "plt.plot(epochs, acc, 'bo', label='Training acc')\n",
    "plt.plot(epochs, val_acc, 'b', label='Validation acc')\n",
    "plt.title('Training and validation accuracy')\n",
    "plt.xlabel(\"Epochs\")\n",
    "plt.ylabel(\"Accuracy\")\n",
    "plt.legend()\n",
    "\n",
    "plt.figure()\n",
    "\n",
    "plt.plot(epochs, loss, 'bo', label='Training loss')\n",
    "plt.plot(epochs, val_loss, 'b', label='Validation loss')\n",
    "plt.title('Training and validation loss')\n",
    "plt.xlabel(\"Epochs\")\n",
    "plt.ylabel(\"Loss\")\n",
    "plt.legend()\n",
    "plt.show();"
   ]
  },
  {
   "cell_type": "markdown",
   "metadata": {},
   "source": [
    "Test on testing set"
   ]
  },
  {
   "cell_type": "code",
   "execution_count": 1035,
   "metadata": {},
   "outputs": [
    {
     "name": "stdout",
     "output_type": "stream",
     "text": [
      "2400/2400 [==============================] - 0s 112us/step\n"
     ]
    }
   ],
   "source": [
    "results = model.evaluate(X_test, y_test)"
   ]
  },
  {
   "cell_type": "code",
   "execution_count": 1036,
   "metadata": {},
   "outputs": [],
   "source": [
    "loss = results[0]\n",
    "accuracy = results[1]"
   ]
  },
  {
   "cell_type": "code",
   "execution_count": 1037,
   "metadata": {},
   "outputs": [
    {
     "data": {
      "text/plain": [
       "0.1233886859950754"
      ]
     },
     "execution_count": 1037,
     "metadata": {},
     "output_type": "execute_result"
    }
   ],
   "source": [
    "loss"
   ]
  },
  {
   "cell_type": "code",
   "execution_count": 1038,
   "metadata": {},
   "outputs": [
    {
     "data": {
      "text/plain": [
       "0.94416666666666671"
      ]
     },
     "execution_count": 1038,
     "metadata": {},
     "output_type": "execute_result"
    }
   ],
   "source": [
    "accuracy"
   ]
  },
  {
   "cell_type": "markdown",
   "metadata": {},
   "source": [
    "** Test Set Accuracy: 98.67% **"
   ]
  },
  {
   "cell_type": "markdown",
   "metadata": {},
   "source": [
    "Save the model"
   ]
  },
  {
   "cell_type": "code",
   "execution_count": 1039,
   "metadata": {
    "scrolled": true
   },
   "outputs": [],
   "source": [
    "model.save(\"HospitalClassifier.h5\")"
   ]
  },
  {
   "cell_type": "markdown",
   "metadata": {},
   "source": [
    "Save the tokenizer"
   ]
  },
  {
   "cell_type": "code",
   "execution_count": 1040,
   "metadata": {},
   "outputs": [],
   "source": [
    "with open('tokenizer.pickle', 'wb') as handle:\n",
    "    pickle.dump(tokenizer, handle, protocol=pickle.HIGHEST_PROTOCOL, fix_imports=True)"
   ]
  },
  {
   "cell_type": "markdown",
   "metadata": {},
   "source": [
    "## Make predictions on new data"
   ]
  },
  {
   "cell_type": "code",
   "execution_count": 1041,
   "metadata": {},
   "outputs": [],
   "source": [
    "model = load_model('HospitalClassifier.h5')"
   ]
  },
  {
   "cell_type": "code",
   "execution_count": 1042,
   "metadata": {},
   "outputs": [],
   "source": [
    "with open('tokenizer.pickle', 'rb') as handle:\n",
    "    tokenizer = pickle.load(handle)"
   ]
  },
  {
   "cell_type": "code",
   "execution_count": 1048,
   "metadata": {},
   "outputs": [],
   "source": [
    "testString = [\"Houston\"]"
   ]
  },
  {
   "cell_type": "code",
   "execution_count": 1049,
   "metadata": {},
   "outputs": [],
   "source": [
    "sequences = tokenizer.texts_to_sequences(testString)\n",
    "testData = pad_sequences(sequences, maxlen=maxSequenceLength)"
   ]
  },
  {
   "cell_type": "code",
   "execution_count": 1050,
   "metadata": {},
   "outputs": [],
   "source": [
    "predictions = model.predict(testData)"
   ]
  },
  {
   "cell_type": "markdown",
   "metadata": {},
   "source": [
    "Amazon - {0: 'Author', 1: 'Format', 2: 'Name', 3: 'Publisher', 4: 'Publishing Date'}"
   ]
  },
  {
   "cell_type": "code",
   "execution_count": 1051,
   "metadata": {},
   "outputs": [
    {
     "data": {
      "text/plain": [
       "'County'"
      ]
     },
     "execution_count": 1051,
     "metadata": {},
     "output_type": "execute_result"
    }
   ],
   "source": [
    "mapping[np.argmax(predictions[0])]"
   ]
  },
  {
   "cell_type": "code",
   "execution_count": null,
   "metadata": {},
   "outputs": [],
   "source": []
  },
  {
   "cell_type": "code",
   "execution_count": null,
   "metadata": {},
   "outputs": [],
   "source": []
  }
 ],
 "metadata": {
  "kernelspec": {
   "display_name": "Python 3",
   "language": "python",
   "name": "python3"
  },
  "language_info": {
   "codemirror_mode": {
    "name": "ipython",
    "version": 3
   },
   "file_extension": ".py",
   "mimetype": "text/x-python",
   "name": "python",
   "nbconvert_exporter": "python",
   "pygments_lexer": "ipython3",
   "version": "3.6.4"
  },
  "toc": {
   "nav_menu": {},
   "number_sections": true,
   "sideBar": true,
   "skip_h1_title": false,
   "title_cell": "Table of Contents",
   "title_sidebar": "Contents",
   "toc_cell": false,
   "toc_position": {},
   "toc_section_display": true,
   "toc_window_display": false
  }
 },
 "nbformat": 4,
 "nbformat_minor": 2
}
