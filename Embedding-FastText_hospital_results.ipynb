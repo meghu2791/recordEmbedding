{
 "cells": [
  {
   "cell_type": "markdown",
   "metadata": {},
   "source": [
    "# Record Embedding"
   ]
  },
  {
   "cell_type": "code",
   "execution_count": 5,
   "metadata": {},
   "outputs": [],
   "source": [
    "import pandas as pd\n",
    "import numpy as np\n",
    "import os\n",
    "import calendar\n",
    "from sklearn.manifold import TSNE\n",
    "import matplotlib.pyplot as plt\n",
    "%matplotlib inline"
   ]
  },
  {
   "cell_type": "markdown",
   "metadata": {},
   "source": [
    "## Embedding using fastText\n",
    "Details here: https://fasttext.cc/"
   ]
  },
  {
   "cell_type": "code",
   "execution_count": 8,
   "metadata": {},
   "outputs": [],
   "source": [
    "import warnings\n",
    "warnings.filterwarnings('ignore')\n",
    "\n",
    "import gensim\n",
    "from gensim.models import FastText"
   ]
  },
  {
   "cell_type": "markdown",
   "metadata": {},
   "source": [
    "Convert each tuple into a row"
   ]
  },
  {
   "cell_type": "code",
   "execution_count": 39,
   "metadata": {},
   "outputs": [],
   "source": [
    "#hospital dataset\n",
    "\n",
    "#1. load hospital dataset and turthvalue.csv; mark error for unmatched values and cleanup using FastText; fill empty cells with word2vec\n",
    "#finding errors and outliers -> discover FDs and try marking errors? or word2vec most_similar of val and if row does not contain the cell values??!\n",
    "\n",
    "df_hospital = pd.read_csv('dirty_data_transformed.csv', dtype=object)\n",
    "df_truth = pd.read_csv('truthvalue.csv', dtype=object)\n",
    "\n",
    "\n",
    "\n",
    "provider = df_truth['ProviderNumber'].tolist()\n",
    "hospital = df_truth['HospitalName'].tolist()\n",
    "address = df_truth['Address1'].tolist()\n",
    "city = df_truth['City'].tolist()\n",
    "state = df_truth['State'].tolist()\n",
    "zipcode = df_truth['ZipCode'].tolist()\n",
    "county = df_truth['CountyName'].tolist()\n",
    "phone = df_truth['PhoneNumber'].tolist()\n",
    "hospType = df_truth['HospitalType'].tolist()\n",
    "owner = df_truth['HospitalOwner'].tolist()\n",
    "service = df_truth['EmergencyService'].tolist()\n",
    "condition = df_truth['Condition'].tolist()\n",
    "code = df_truth['MeasureCode'].tolist()\n",
    "name = df_truth['MeasureName'].tolist()\n",
    "score = df_truth['Score'].tolist()\n",
    "sample = df_truth['Sample'].tolist()\n",
    "stateavg = df_truth['Stateavg'].tolist()\n",
    "\n",
    "combined_hosp = list(zip(provider, hospital, address, city, state, zipcode, county, phone, hospType, owner, service, condition, code, name, score, sample, stateavg))\n",
    "\n"
   ]
  },
  {
   "cell_type": "code",
   "execution_count": 40,
   "metadata": {},
   "outputs": [
    {
     "data": {
      "text/plain": [
       "1000"
      ]
     },
     "execution_count": 40,
     "metadata": {},
     "output_type": "execute_result"
    }
   ],
   "source": [
    "len(df_truth)"
   ]
  },
  {
   "cell_type": "code",
   "execution_count": 24,
   "metadata": {},
   "outputs": [
    {
     "data": {
      "text/plain": [
       "17"
      ]
     },
     "execution_count": 24,
     "metadata": {},
     "output_type": "execute_result"
    }
   ],
   "source": [
    "len(combined_hosp[1])"
   ]
  },
  {
   "cell_type": "code",
   "execution_count": 41,
   "metadata": {},
   "outputs": [
    {
     "data": {
      "text/plain": [
       "1000"
      ]
     },
     "execution_count": 41,
     "metadata": {},
     "output_type": "execute_result"
    }
   ],
   "source": [
    "#hospital dirty dataset; maintain dirty dataset separately\n",
    "provider = df_hospital['ProviderNumber'].tolist()\n",
    "hospital = df_hospital['HospitalName'].tolist()\n",
    "address = df_hospital['Address1'].tolist()\n",
    "city = df_hospital['City'].tolist()\n",
    "state = df_hospital['State'].tolist()\n",
    "zipcode = df_hospital['ZipCode'].tolist()\n",
    "county = df_hospital['CountyName'].tolist()\n",
    "phone = df_hospital['PhoneNumber'].tolist()\n",
    "hospType = df_hospital['HospitalType'].tolist()\n",
    "owner = df_hospital['HospitalOwner'].tolist()\n",
    "service = df_hospital['EmergencyService'].tolist()\n",
    "condition = df_hospital['Condition'].tolist()\n",
    "code = df_hospital['MeasureCode'].tolist()\n",
    "name = df_hospital['MeasureName'].tolist()\n",
    "score = df_hospital['Score'].tolist()\n",
    "sample = df_hospital['Sample'].tolist()\n",
    "stateavg = df_hospital['Stateavg'].tolist()\n",
    "\n",
    "combined_dirty = list(zip(provider, hospital, address, city, state, zipcode, county, phone, hospType, owner, service, condition, code, name, score, sample, stateavg))\n",
    "len(combined_dirty)\n",
    "\n",
    "\n"
   ]
  },
  {
   "cell_type": "code",
   "execution_count": 42,
   "metadata": {},
   "outputs": [
    {
     "data": {
      "text/plain": [
       "1000"
      ]
     },
     "execution_count": 42,
     "metadata": {},
     "output_type": "execute_result"
    }
   ],
   "source": [
    "len(combined_dirty)"
   ]
  },
  {
   "cell_type": "code",
   "execution_count": 48,
   "metadata": {},
   "outputs": [
    {
     "name": "stdout",
     "output_type": "stream",
     "text": [
      "Hearx Axxack Heart Attack\n"
     ]
    }
   ],
   "source": [
    "print (dirty_list[10],truth_list[10])\n"
   ]
  },
  {
   "cell_type": "code",
   "execution_count": 45,
   "metadata": {},
   "outputs": [],
   "source": [
    "#training the model with truth data.\n",
    "model_hosp = FastText(combined_hosp, min_count=1, workers=8, iter=100)"
   ]
  },
  {
   "cell_type": "code",
   "execution_count": 65,
   "metadata": {},
   "outputs": [
    {
     "data": {
      "text/plain": [
       "594"
      ]
     },
     "execution_count": 65,
     "metadata": {},
     "output_type": "execute_result"
    }
   ],
   "source": [
    "len(dirty_list)"
   ]
  },
  {
   "cell_type": "code",
   "execution_count": 49,
   "metadata": {},
   "outputs": [],
   "source": [
    "#result is a list of tuples of (predicted_value, dirty_value, truth_value)\n",
    "result = []\n",
    "for i in range(len(dirty_list)):\n",
    "    if isinstance(dirty_list[i], str):\n",
    "        try:\n",
    "            result.append((model_hosp.most_similar(dirty_list[i])[0][0],dirty_list[i],truth_list[i]))\n",
    "        except KeyError:\n",
    "            #print(dirty_list[i])\n",
    "            pass\n",
    "\n",
    "        \n",
    "    "
   ]
  },
  {
   "cell_type": "code",
   "execution_count": 57,
   "metadata": {},
   "outputs": [
    {
     "name": "stdout",
     "output_type": "stream",
     "text": [
      "367 176\n"
     ]
    }
   ],
   "source": [
    "#identify the true positives and false positives. Store them in the seperate list for further analysis.\n",
    "true_pos = 0\n",
    "false_pos = 0\n",
    "correctly_predicted = []\n",
    "falsely_predicted = []\n",
    "for i in range(len(result)):\n",
    "    if result[i][0] == result[i][2]:\n",
    "        true_pos = true_pos + 1\n",
    "        correctly_predicted.append(result[i])\n",
    "    else:\n",
    "        false_pos = false_pos + 1\n",
    "        falsely_predicted.append(result[i])\n",
    "\n",
    "\n"
   ]
  },
  {
   "cell_type": "code",
   "execution_count": 67,
   "metadata": {},
   "outputs": [
    {
     "data": {
      "text/plain": [
       "('surgery patients needing hair removed from the surgical area before surgery who had hair removed using a safer method (electric clippers or hair removal cream �C not a razor)',\n",
       " 'surgery patients needing hair removed from the surgical area before surgery who had hair removed using a safer method (electric clippers or hair removal cream C not a razor)',\n",
       " 'surgery patients needing hair removed from the surgical area before surgery who had hair removed using a safer method (electric clippers or hair removal cream �C not a razor)')"
      ]
     },
     "execution_count": 67,
     "metadata": {},
     "output_type": "execute_result"
    }
   ],
   "source": [
    "correctly_predicted[2]"
   ]
  },
  {
   "cell_type": "code",
   "execution_count": 68,
   "metadata": {},
   "outputs": [
    {
     "data": {
      "text/plain": [
       "('BOAZ', 'x5957', '35957')"
      ]
     },
     "execution_count": 68,
     "metadata": {},
     "output_type": "execute_result"
    }
   ],
   "source": [
    "falsely_predicted[2]"
   ]
  },
  {
   "cell_type": "code",
   "execution_count": 69,
   "metadata": {},
   "outputs": [
    {
     "data": {
      "text/plain": [
       "[('BOAZ', 0.9628452062606812),\n",
       " ('MARSHALL', 0.931229829788208),\n",
       " ('35957', 0.8796513080596924),\n",
       " ('2565938310', 0.8265697956085205),\n",
       " ('2505 U S HIGHWAY 431 NORTH', 0.8258407115936279),\n",
       " ('35976', 0.785955548286438),\n",
       " ('2565718000', 0.6646440625190735),\n",
       " ('MARSHALL MEDICAL CENTER SOUTH', 0.6296823620796204),\n",
       " ('MARSHALL MEDICAL CENTER NORTH', 0.6226513385772705),\n",
       " ('15155 HIGHWAY 43', 0.6163424253463745)]"
      ]
     },
     "execution_count": 69,
     "metadata": {},
     "output_type": "execute_result"
    }
   ],
   "source": [
    "model_hosp.most_similar('x5957')"
   ]
  },
  {
   "cell_type": "code",
   "execution_count": null,
   "metadata": {},
   "outputs": [],
   "source": []
  }
 ],
 "metadata": {
  "kernelspec": {
   "display_name": "Python 3",
   "language": "python",
   "name": "python3"
  },
  "language_info": {
   "codemirror_mode": {
    "name": "ipython",
    "version": 3
   },
   "file_extension": ".py",
   "mimetype": "text/x-python",
   "name": "python",
   "nbconvert_exporter": "python",
   "pygments_lexer": "ipython3",
   "version": "3.5.4"
  },
  "toc": {
   "nav_menu": {},
   "number_sections": true,
   "sideBar": true,
   "skip_h1_title": true,
   "title_cell": "Table of Contents",
   "title_sidebar": "Contents",
   "toc_cell": false,
   "toc_position": {},
   "toc_section_display": true,
   "toc_window_display": false
  }
 },
 "nbformat": 4,
 "nbformat_minor": 2
}
